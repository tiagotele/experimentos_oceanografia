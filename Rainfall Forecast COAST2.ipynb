{
 "cells": [
  {
   "cell_type": "code",
   "execution_count": 1,
   "metadata": {},
   "outputs": [
    {
     "name": "stdout",
     "output_type": "stream",
     "text": [
      "height has been deprecated.\n",
      "\n"
     ]
    }
   ],
   "source": [
    "from BaseFunction import *"
   ]
  },
  {
   "cell_type": "markdown",
   "metadata": {},
   "source": [
    "# LOAD SST"
   ]
  },
  {
   "cell_type": "code",
   "execution_count": 2,
   "metadata": {
    "collapsed": true
   },
   "outputs": [],
   "source": [
    "sst_full_area_jul_dez_df = load_sst_data()"
   ]
  },
  {
   "cell_type": "markdown",
   "metadata": {},
   "source": [
    "# LOAD PWS"
   ]
  },
  {
   "cell_type": "code",
   "execution_count": 3,
   "metadata": {
    "collapsed": true
   },
   "outputs": [],
   "source": [
    "pws_full_area_jul_dez_df = load_pws_data()"
   ]
  },
  {
   "cell_type": "markdown",
   "metadata": {},
   "source": [
    "# Rainfall data"
   ]
  },
  {
   "cell_type": "code",
   "execution_count": null,
   "metadata": {
    "collapsed": true
   },
   "outputs": [],
   "source": [
    "rainy_classified_df = build_rainfall_classified_df()"
   ]
  },
  {
   "cell_type": "markdown",
   "metadata": {},
   "source": [
    "# Preprossessing(for coast2 area)\n"
   ]
  },
  {
   "cell_type": "code",
   "execution_count": null,
   "metadata": {
    "collapsed": true
   },
   "outputs": [],
   "source": [
    "region_sst_df=pd.DataFrame(sst_full_area_jul_dez_df, index=sst_full_area_jul_dez_df.index, columns=colunas_coast_2)\n",
    "region_pws_df=pd.DataFrame(pws_full_area_jul_dez_df, index=pws_full_area_jul_dez_df.index, columns=colunas_coast_2)\n",
    "\n",
    "region_sst_df.dropna(axis=1, how='any', inplace=True)\n",
    "region_pws_df.dropna(axis=1, how='any', inplace=True)\n",
    "\n",
    "scaler = MinMaxScaler()\n",
    "\n",
    "region_sst_scaled_df = pd.DataFrame(scaler.fit_transform(region_sst_df), columns=region_sst_df.columns)\n",
    "region_sst_scaled_df.index = region_sst_df.index\n",
    "\n",
    "replace_pws_scaled_df = pd.DataFrame(scaler.fit_transform(region_pws_df), columns=region_pws_df.columns)\n",
    "replace_pws_scaled_df.index = region_pws_df.index\n",
    "\n",
    "replace_sst_transformed_df = create_transformed_df(region_sst_scaled_df, \"sst_\")\n",
    "\n",
    "replace_pws_transformed_df = create_transformed_df(replace_pws_scaled_df, \"pws_\")\n",
    "\n",
    "df_new = pd.concat([replace_sst_transformed_df, replace_pws_transformed_df], axis=1)\n",
    "\n",
    "dataset_df = pd.concat([df_new, rainy_classified_df], axis=1)\n",
    "#Removing 2017 due we don't have full 2018 available\n",
    "dataset_df = dataset_df.loc['1973-01-01':'2016-12-01']"
   ]
  },
  {
   "cell_type": "code",
   "execution_count": null,
   "metadata": {
    "collapsed": true
   },
   "outputs": [],
   "source": [
    "region = \"COAST2\""
   ]
  },
  {
   "cell_type": "markdown",
   "metadata": {},
   "source": [
    "# Split train and test"
   ]
  },
  {
   "cell_type": "code",
   "execution_count": null,
   "metadata": {
    "collapsed": true
   },
   "outputs": [],
   "source": [
    "n_classes = 3"
   ]
  },
  {
   "cell_type": "code",
   "execution_count": null,
   "metadata": {
    "collapsed": true
   },
   "outputs": [],
   "source": [
    "train_df = dataset_df.loc['1973-01-01':'2000-12-01']\n",
    "\n",
    "test_df = dataset_df.loc['2000-01-01':'2016-12-01']\n",
    "\n",
    "#Dropt last column to be the X values\n",
    "feature_cols = dataset_df.columns\n",
    "feature_cols=feature_cols.drop('classes')\n",
    "\n",
    "# Input data(X)\n",
    "X_train = train_df.loc[:, feature_cols]\n",
    "\n",
    "# Output data(y)\n",
    "y_train = train_df['classes']\n",
    "\n",
    "X_test = test_df.loc[:, feature_cols]\n",
    "\n",
    "y_test = test_df['classes']"
   ]
  },
  {
   "cell_type": "code",
   "execution_count": null,
   "metadata": {
    "collapsed": true
   },
   "outputs": [],
   "source": [
    "# Binarize the output\n",
    "y_tr = label_binarize(y_train, classes=['weak', 'normal', 'strong'])\n",
    "y_tt = label_binarize(y_test, classes=['weak', 'normal', 'strong'])\n"
   ]
  },
  {
   "cell_type": "code",
   "execution_count": null,
   "metadata": {},
   "outputs": [],
   "source": [
    "new_pred_class, classifier = test_knn(X_train,y_train, X_test)"
   ]
  },
  {
   "cell_type": "code",
   "execution_count": null,
   "metadata": {},
   "outputs": [],
   "source": [
    "metrics.accuracy_score(test_df['classes'], new_pred_class)"
   ]
  },
  {
   "cell_type": "code",
   "execution_count": null,
   "metadata": {
    "scrolled": true
   },
   "outputs": [],
   "source": [
    "plot_roc(classifier, X_train, X_test, y_tr, y_tt, n_classes, algorithm=\"knn\", area=region)"
   ]
  },
  {
   "cell_type": "code",
   "execution_count": null,
   "metadata": {},
   "outputs": [],
   "source": [
    "new_pred_class, classifier = test_svc(X_train,y_train, X_test)"
   ]
  },
  {
   "cell_type": "code",
   "execution_count": null,
   "metadata": {},
   "outputs": [],
   "source": [
    "metrics.accuracy_score(test_df['classes'], new_pred_class)"
   ]
  },
  {
   "cell_type": "code",
   "execution_count": null,
   "metadata": {},
   "outputs": [],
   "source": [
    "plot_roc(classifier, X_train, X_test, y_tr, y_tt, n_classes, algorithm=\"svc\", area=region)"
   ]
  },
  {
   "cell_type": "code",
   "execution_count": null,
   "metadata": {},
   "outputs": [],
   "source": [
    "new_pred_class, classifier = test_gpc(X_train,y_train, X_test)"
   ]
  },
  {
   "cell_type": "code",
   "execution_count": null,
   "metadata": {},
   "outputs": [],
   "source": [
    "metrics.accuracy_score(test_df['classes'], new_pred_class)"
   ]
  },
  {
   "cell_type": "code",
   "execution_count": null,
   "metadata": {},
   "outputs": [],
   "source": [
    "plot_roc(classifier, X_train, X_test, y_tr, y_tt, n_classes, algorithm=\"gpc\", area=region)"
   ]
  },
  {
   "cell_type": "code",
   "execution_count": null,
   "metadata": {},
   "outputs": [],
   "source": [
    "new_pred_class, classifier = test_dtc(X_train,y_train, X_test)"
   ]
  },
  {
   "cell_type": "code",
   "execution_count": null,
   "metadata": {},
   "outputs": [],
   "source": [
    "metrics.accuracy_score(test_df['classes'], new_pred_class)"
   ]
  },
  {
   "cell_type": "code",
   "execution_count": null,
   "metadata": {},
   "outputs": [],
   "source": [
    "plot_roc(classifier, X_train, X_test, y_tr, y_tt, n_classes, algorithm=\"dtc\", area=region)"
   ]
  },
  {
   "cell_type": "code",
   "execution_count": null,
   "metadata": {},
   "outputs": [],
   "source": [
    "new_pred_class, classifier = test_rfc(X_train,y_train, X_test)"
   ]
  },
  {
   "cell_type": "code",
   "execution_count": null,
   "metadata": {},
   "outputs": [],
   "source": [
    "metrics.accuracy_score(test_df['classes'], new_pred_class)"
   ]
  },
  {
   "cell_type": "code",
   "execution_count": null,
   "metadata": {},
   "outputs": [],
   "source": [
    "plot_roc(classifier, X_train, X_test, y_tr, y_tt, n_classes, algorithm=\"rfc\", area=region)"
   ]
  },
  {
   "cell_type": "code",
   "execution_count": null,
   "metadata": {},
   "outputs": [],
   "source": [
    "new_pred_class, classifier = test_mlp(X_train,y_train, X_test)"
   ]
  },
  {
   "cell_type": "code",
   "execution_count": null,
   "metadata": {},
   "outputs": [],
   "source": [
    "metrics.accuracy_score(test_df['classes'], new_pred_class)"
   ]
  },
  {
   "cell_type": "code",
   "execution_count": null,
   "metadata": {},
   "outputs": [],
   "source": [
    "plot_roc(classifier, X_train, X_test, y_tr, y_tt, n_classes, algorithm=\"mlp\", area=region)"
   ]
  },
  {
   "cell_type": "code",
   "execution_count": null,
   "metadata": {},
   "outputs": [],
   "source": [
    "new_pred_class, classifier = test_adc(X_train,y_train, X_test)"
   ]
  },
  {
   "cell_type": "code",
   "execution_count": null,
   "metadata": {},
   "outputs": [],
   "source": [
    "metrics.accuracy_score(test_df['classes'], new_pred_class)"
   ]
  },
  {
   "cell_type": "code",
   "execution_count": null,
   "metadata": {},
   "outputs": [],
   "source": [
    "plot_roc(classifier, X_train, X_test, y_tr, y_tt, n_classes, algorithm=\"adc\", area=region)"
   ]
  },
  {
   "cell_type": "code",
   "execution_count": null,
   "metadata": {},
   "outputs": [],
   "source": [
    "new_pred_class, classifier = test_gnb(X_train,y_train, X_test)"
   ]
  },
  {
   "cell_type": "code",
   "execution_count": null,
   "metadata": {},
   "outputs": [],
   "source": [
    "metrics.accuracy_score(test_df['classes'], new_pred_class)"
   ]
  },
  {
   "cell_type": "code",
   "execution_count": null,
   "metadata": {},
   "outputs": [],
   "source": [
    "plot_roc(classifier, X_train, X_test, y_tr, y_tt, n_classes, algorithm=\"gnb\", area=region)"
   ]
  },
  {
   "cell_type": "code",
   "execution_count": null,
   "metadata": {
    "collapsed": true
   },
   "outputs": [],
   "source": []
  }
 ],
 "metadata": {
  "kernelspec": {
   "display_name": "Python 3",
   "language": "python",
   "name": "python3"
  },
  "language_info": {
   "codemirror_mode": {
    "name": "ipython",
    "version": 3
   },
   "file_extension": ".py",
   "mimetype": "text/x-python",
   "name": "python",
   "nbconvert_exporter": "python",
   "pygments_lexer": "ipython3",
   "version": "3.6.4"
  }
 },
 "nbformat": 4,
 "nbformat_minor": 2
}
