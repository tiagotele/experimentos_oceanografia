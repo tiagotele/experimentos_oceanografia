{
 "cells": [
  {
   "cell_type": "code",
   "execution_count": 19,
   "metadata": {},
   "outputs": [],
   "source": [
    "from BaseFunction import *"
   ]
  },
  {
   "cell_type": "markdown",
   "metadata": {},
   "source": [
    "# LOAD SST"
   ]
  },
  {
   "cell_type": "code",
   "execution_count": 20,
   "metadata": {},
   "outputs": [],
   "source": [
    "sst_full_area_jul_dez_df = load_sst_data()"
   ]
  },
  {
   "cell_type": "markdown",
   "metadata": {},
   "source": [
    "# LOAD PWS"
   ]
  },
  {
   "cell_type": "code",
   "execution_count": 21,
   "metadata": {},
   "outputs": [],
   "source": [
    "pws_full_area_jul_dez_df = load_pws_data()"
   ]
  },
  {
   "cell_type": "markdown",
   "metadata": {},
   "source": [
    "# Rainfall data"
   ]
  },
  {
   "cell_type": "code",
   "execution_count": 22,
   "metadata": {
    "collapsed": true
   },
   "outputs": [],
   "source": [
    "rainy_classified_df = build_rainfall_classified_df()"
   ]
  },
  {
   "cell_type": "markdown",
   "metadata": {},
   "source": [
    "# Lat Long Regions"
   ]
  },
  {
   "cell_type": "code",
   "execution_count": 23,
   "metadata": {
    "collapsed": true
   },
   "outputs": [],
   "source": [
    "#Jacques's regions\n",
    "colunas_atn_n = constroi_colunas_latitude_longitude(init_lat=19, end_lat=0, init_long=49, end_long=20)\n",
    "\n",
    "colunas_atn_s = constroi_colunas_latitude_longitude(init_lat=-1, end_lat=-17, init_long=29, end_long=0)\n",
    "\n",
    "colunas_tn = constroi_colunas_latitude_longitude(init_lat=27, end_lat=3, init_long=59, end_long=17)\n",
    "\n",
    "colunas_ts = constroi_colunas_latitude_longitude(init_lat=5, end_lat=-20, init_long=59, end_long=-17)\n",
    "\n",
    "colunas_atl3 = constroi_colunas_latitude_longitude(init_lat=3, end_lat=-3, init_long=19, end_long=0)\n",
    "\n",
    "#Coast regions\n",
    "colunas_coast_1 = constroi_colunas_latitude_longitude(init_lat=0, end_lat=-5, init_long=39, end_long=30)\n",
    "\n",
    "colunas_coast_2 = constroi_colunas_latitude_longitude(init_lat=0, end_lat=-10, init_long=49, end_long=29)\n",
    "\n",
    "colunas_coast_3 = constroi_colunas_latitude_longitude(init_lat=5, end_lat=-10, init_long=50, end_long=19)"
   ]
  },
  {
   "cell_type": "code",
   "execution_count": 24,
   "metadata": {
    "collapsed": true
   },
   "outputs": [],
   "source": [
    "atl3_sst_df=pd.DataFrame(sst_full_area_jul_dez_df, index=sst_full_area_jul_dez_df.index, columns=colunas_atl3)\n",
    "\n",
    "alt3_pws_df=pd.DataFrame(pws_full_area_jul_dez_df, index=pws_full_area_jul_dez_df.index, columns=colunas_atl3)"
   ]
  },
  {
   "cell_type": "markdown",
   "metadata": {},
   "source": [
    "# Preprossessing\n"
   ]
  },
  {
   "cell_type": "code",
   "execution_count": 25,
   "metadata": {
    "collapsed": true
   },
   "outputs": [],
   "source": [
    "atl3_sst_df=pd.DataFrame(sst_full_area_jul_dez_df, index=sst_full_area_jul_dez_df.index, columns=colunas_atl3)\n",
    "atl3_pws_df=pd.DataFrame(pws_full_area_jul_dez_df, index=pws_full_area_jul_dez_df.index, columns=colunas_atl3)\n",
    "\n",
    "atl3_sst_df.dropna(axis=1, how='any', inplace=True)\n",
    "atl3_pws_df.dropna(axis=1, how='any', inplace=True)\n",
    "\n",
    "scaler = MinMaxScaler()\n",
    "\n",
    "atl3_sst_scaled_df = pd.DataFrame(scaler.fit_transform(atl3_sst_df), columns=atl3_sst_df.columns)\n",
    "atl3_sst_scaled_df.index = atl3_sst_df.index\n",
    "\n",
    "atl3_pws_scaled_df = pd.DataFrame(scaler.fit_transform(atl3_pws_df), columns=atl3_pws_df.columns)\n",
    "atl3_pws_scaled_df.index = atl3_pws_df.index\n",
    "\n",
    "atl3_sst_transformed_df = create_transformed_df(atl3_sst_scaled_df, \"sst_\")\n",
    "\n",
    "atl3_pws_transformed_df = create_transformed_df(atl3_pws_scaled_df, \"pws_\")\n",
    "\n",
    "df_new = pd.concat([atl3_sst_transformed_df, atl3_pws_transformed_df], axis=1)\n",
    "\n",
    "dataset_df = pd.concat([df_new, rainy_classified_df], axis=1)\n",
    "#Removing 2017 due we don't have full 2018 available\n",
    "dataset_df = dataset_df.loc['1973-01-01':'2016-12-01']"
   ]
  },
  {
   "cell_type": "markdown",
   "metadata": {},
   "source": [
    "# Split train and test"
   ]
  },
  {
   "cell_type": "code",
   "execution_count": 26,
   "metadata": {
    "collapsed": true
   },
   "outputs": [],
   "source": [
    "train_df = dataset_df.loc['1973-01-01':'2000-12-01']\n",
    "\n",
    "test_df = dataset_df.loc['2000-01-01':'2016-12-01']\n",
    "\n",
    "#Dropt last column to be the X values\n",
    "feature_cols = dataset_df.columns\n",
    "feature_cols=feature_cols.drop('classes')\n",
    "\n",
    "# Input data(X)\n",
    "X = train_df.loc[:, feature_cols]\n",
    "\n",
    "# Output data(y)\n",
    "y = train_df['classes']\n",
    "\n",
    "X_test = test_df.loc[:, feature_cols]"
   ]
  },
  {
   "cell_type": "code",
   "execution_count": 27,
   "metadata": {},
   "outputs": [
    {
     "name": "stdout",
     "output_type": "stream",
     "text": [
      "2001 normal\n",
      "2002 weak\n",
      "2003 normal\n",
      "2004 normal\n",
      "2005 normal\n",
      "2006 normal\n",
      "2007 weak\n",
      "2008 normal\n",
      "2009 normal\n",
      "2010 normal\n",
      "2011 weak\n",
      "2012 weak\n",
      "2013 weak\n",
      "2014 weak\n",
      "2015 weak\n",
      "2016 weak\n"
     ]
    }
   ],
   "source": [
    "new_pred_class = test_knn(X,y, X_test)"
   ]
  },
  {
   "cell_type": "code",
   "execution_count": 28,
   "metadata": {},
   "outputs": [
    {
     "data": {
      "text/plain": [
       "0.6875"
      ]
     },
     "execution_count": 28,
     "metadata": {},
     "output_type": "execute_result"
    }
   ],
   "source": [
    "metrics.accuracy_score(test_df['classes'], new_pred_class)"
   ]
  },
  {
   "cell_type": "code",
   "execution_count": 29,
   "metadata": {},
   "outputs": [
    {
     "name": "stdout",
     "output_type": "stream",
     "text": [
      "2001 weak\n",
      "2002 weak\n",
      "2003 weak\n",
      "2004 weak\n",
      "2005 weak\n",
      "2006 weak\n",
      "2007 weak\n",
      "2008 weak\n",
      "2009 weak\n",
      "2010 weak\n",
      "2011 weak\n",
      "2012 weak\n",
      "2013 weak\n",
      "2014 weak\n",
      "2015 weak\n",
      "2016 weak\n"
     ]
    }
   ],
   "source": [
    "new_pred_class = test_svc(X,y, X_test)"
   ]
  },
  {
   "cell_type": "code",
   "execution_count": 30,
   "metadata": {},
   "outputs": [
    {
     "data": {
      "text/plain": [
       "0.8125"
      ]
     },
     "execution_count": 30,
     "metadata": {},
     "output_type": "execute_result"
    }
   ],
   "source": [
    "metrics.accuracy_score(test_df['classes'], new_pred_class)"
   ]
  },
  {
   "cell_type": "code",
   "execution_count": 31,
   "metadata": {},
   "outputs": [
    {
     "name": "stdout",
     "output_type": "stream",
     "text": [
      "2001 weak\n",
      "2002 weak\n",
      "2003 weak\n",
      "2004 weak\n",
      "2005 weak\n",
      "2006 weak\n",
      "2007 weak\n",
      "2008 weak\n",
      "2009 weak\n",
      "2010 weak\n",
      "2011 weak\n",
      "2012 weak\n",
      "2013 weak\n",
      "2014 weak\n",
      "2015 weak\n",
      "2016 weak\n"
     ]
    }
   ],
   "source": [
    "new_pred_class = test_gpc(X,y, X_test)"
   ]
  },
  {
   "cell_type": "code",
   "execution_count": 32,
   "metadata": {},
   "outputs": [
    {
     "data": {
      "text/plain": [
       "0.8125"
      ]
     },
     "execution_count": 32,
     "metadata": {},
     "output_type": "execute_result"
    }
   ],
   "source": [
    "metrics.accuracy_score(test_df['classes'], new_pred_class)"
   ]
  },
  {
   "cell_type": "code",
   "execution_count": 33,
   "metadata": {},
   "outputs": [
    {
     "name": "stdout",
     "output_type": "stream",
     "text": [
      "2001 normal\n",
      "2002 weak\n",
      "2003 weak\n",
      "2004 normal\n",
      "2005 normal\n",
      "2006 weak\n",
      "2007 weak\n",
      "2008 weak\n",
      "2009 weak\n",
      "2010 weak\n",
      "2011 weak\n",
      "2012 normal\n",
      "2013 weak\n",
      "2014 weak\n",
      "2015 weak\n",
      "2016 normal\n"
     ]
    }
   ],
   "source": [
    "new_pred_class = test_dtc(X,y, X_test)"
   ]
  },
  {
   "cell_type": "code",
   "execution_count": 34,
   "metadata": {},
   "outputs": [
    {
     "data": {
      "text/plain": [
       "0.5"
      ]
     },
     "execution_count": 34,
     "metadata": {},
     "output_type": "execute_result"
    }
   ],
   "source": [
    "metrics.accuracy_score(test_df['classes'], new_pred_class)"
   ]
  },
  {
   "cell_type": "code",
   "execution_count": 35,
   "metadata": {},
   "outputs": [
    {
     "name": "stdout",
     "output_type": "stream",
     "text": [
      "2001 weak\n",
      "2002 weak\n",
      "2003 normal\n",
      "2004 weak\n",
      "2005 weak\n",
      "2006 normal\n",
      "2007 weak\n",
      "2008 weak\n",
      "2009 weak\n",
      "2010 normal\n",
      "2011 weak\n",
      "2012 weak\n",
      "2013 weak\n",
      "2014 normal\n",
      "2015 weak\n",
      "2016 weak\n"
     ]
    }
   ],
   "source": [
    "new_pred_class = test_rfc(X,y, X_test)"
   ]
  },
  {
   "cell_type": "code",
   "execution_count": 36,
   "metadata": {},
   "outputs": [
    {
     "data": {
      "text/plain": [
       "0.6875"
      ]
     },
     "execution_count": 36,
     "metadata": {},
     "output_type": "execute_result"
    }
   ],
   "source": [
    "metrics.accuracy_score(test_df['classes'], new_pred_class)"
   ]
  },
  {
   "cell_type": "code",
   "execution_count": 37,
   "metadata": {},
   "outputs": [
    {
     "name": "stdout",
     "output_type": "stream",
     "text": [
      "2001 weak\n",
      "2002 weak\n",
      "2003 weak\n",
      "2004 normal\n",
      "2005 weak\n",
      "2006 normal\n",
      "2007 weak\n",
      "2008 weak\n",
      "2009 weak\n",
      "2010 weak\n",
      "2011 weak\n",
      "2012 weak\n",
      "2013 weak\n",
      "2014 weak\n",
      "2015 weak\n",
      "2016 normal\n"
     ]
    },
    {
     "name": "stderr",
     "output_type": "stream",
     "text": [
      "/usr/local/Cellar/python3/3.6.4_2/Frameworks/Python.framework/Versions/3.6/lib/python3.6/site-packages/sklearn/neural_network/multilayer_perceptron.py:564: ConvergenceWarning: Stochastic Optimizer: Maximum iterations (200) reached and the optimization hasn't converged yet.\n",
      "  % self.max_iter, ConvergenceWarning)\n"
     ]
    }
   ],
   "source": [
    "new_pred_class = test_mlp(X,y, X_test)"
   ]
  },
  {
   "cell_type": "code",
   "execution_count": 38,
   "metadata": {},
   "outputs": [
    {
     "data": {
      "text/plain": [
       "0.625"
      ]
     },
     "execution_count": 38,
     "metadata": {},
     "output_type": "execute_result"
    }
   ],
   "source": [
    "metrics.accuracy_score(test_df['classes'], new_pred_class)"
   ]
  },
  {
   "cell_type": "code",
   "execution_count": 39,
   "metadata": {},
   "outputs": [
    {
     "name": "stdout",
     "output_type": "stream",
     "text": [
      "2001 weak\n",
      "2002 weak\n",
      "2003 weak\n",
      "2004 normal\n",
      "2005 weak\n",
      "2006 weak\n",
      "2007 weak\n",
      "2008 weak\n",
      "2009 weak\n",
      "2010 weak\n",
      "2011 weak\n",
      "2012 weak\n",
      "2013 normal\n",
      "2014 weak\n",
      "2015 normal\n",
      "2016 weak\n"
     ]
    }
   ],
   "source": [
    "new_pred_class = test_adc(X,y, X_test)"
   ]
  },
  {
   "cell_type": "code",
   "execution_count": 40,
   "metadata": {},
   "outputs": [
    {
     "data": {
      "text/plain": [
       "0.625"
      ]
     },
     "execution_count": 40,
     "metadata": {},
     "output_type": "execute_result"
    }
   ],
   "source": [
    "metrics.accuracy_score(test_df['classes'], new_pred_class)"
   ]
  },
  {
   "cell_type": "code",
   "execution_count": 41,
   "metadata": {},
   "outputs": [
    {
     "name": "stdout",
     "output_type": "stream",
     "text": [
      "2001 weak\n",
      "2002 weak\n",
      "2003 weak\n",
      "2004 weak\n",
      "2005 weak\n",
      "2006 weak\n",
      "2007 weak\n",
      "2008 weak\n",
      "2009 weak\n",
      "2010 weak\n",
      "2011 weak\n",
      "2012 weak\n",
      "2013 weak\n",
      "2014 weak\n",
      "2015 weak\n",
      "2016 weak\n"
     ]
    }
   ],
   "source": [
    "new_pred_class = test_gnb(X,y, X_test)"
   ]
  },
  {
   "cell_type": "code",
   "execution_count": 42,
   "metadata": {},
   "outputs": [
    {
     "data": {
      "text/plain": [
       "0.8125"
      ]
     },
     "execution_count": 42,
     "metadata": {},
     "output_type": "execute_result"
    }
   ],
   "source": [
    "metrics.accuracy_score(test_df['classes'], new_pred_class)"
   ]
  }
 ],
 "metadata": {
  "kernelspec": {
   "display_name": "Python 3",
   "language": "python",
   "name": "python3"
  },
  "language_info": {
   "codemirror_mode": {
    "name": "ipython",
    "version": 3
   },
   "file_extension": ".py",
   "mimetype": "text/x-python",
   "name": "python",
   "nbconvert_exporter": "python",
   "pygments_lexer": "ipython3",
   "version": "3.6.4"
  }
 },
 "nbformat": 4,
 "nbformat_minor": 2
}
