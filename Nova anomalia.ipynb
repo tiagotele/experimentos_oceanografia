{
 "cells": [
  {
   "cell_type": "markdown",
   "metadata": {},
   "source": [
    "### Imports básicos\n"
   ]
  },
  {
   "cell_type": "code",
   "execution_count": 1,
   "metadata": {},
   "outputs": [
    {
     "name": "stderr",
     "output_type": "stream",
     "text": [
      "/Users/Tiago/Library/Python/3.6/lib/python/site-packages/statsmodels/compat/pandas.py:56: FutureWarning: The pandas.core.datetools module is deprecated and will be removed in a future version. Please use the pandas.tseries module instead.\n",
      "  from pandas.core import datetools\n"
     ]
    }
   ],
   "source": [
    "from copy import deepcopy\n",
    "import pandas as pd\n",
    "import numpy as np\n",
    "import os\n",
    "from datetime import datetime\n",
    "from dateutil.relativedelta import relativedelta\n",
    "from statsmodels.tsa import stattools\n",
    "from statsmodels.tsa import seasonal\n",
    "%matplotlib inline\n",
    "from matplotlib import pyplot as plt\n",
    "from functools import reduce # Operação de reduce para cálculo de média de uma lista\n",
    "\n"
   ]
  },
  {
   "cell_type": "markdown",
   "metadata": {},
   "source": [
    "### Setando nome das colunas baseados em latitude e longitude\n"
   ]
  },
  {
   "cell_type": "code",
   "execution_count": 2,
   "metadata": {
    "collapsed": true
   },
   "outputs": [],
   "source": [
    "w_values = range(60,0,-2)\n",
    "e_values = range(0,15,2)\n",
    "n_values = range(30,0,-2)\n",
    "s_values = range(0,20,2)\n",
    "\n",
    "colunas = []\n",
    "linhas = []\n",
    "\n",
    "# LINHA\n",
    "for value in w_values:\n",
    "    column_name = str(value) + \"W\"\n",
    "    linhas.append(column_name)\n",
    "    \n",
    "for value in e_values:\n",
    "    column_name = str(value) + \"E\"\n",
    "    linhas.append(column_name)\n",
    "\n",
    "# COLUNA    \n",
    "for value in n_values:\n",
    "    column_name = str(value) + \"N\"\n",
    "    colunas.append(column_name)\n",
    "    \n",
    "for value in s_values:\n",
    "    column_name = str(value) + \"S\"\n",
    "    colunas.append(column_name)\n",
    "\n",
    "colunas_do_data_frame = []\n",
    "for linha in linhas:\n",
    "    for coluna in colunas:\n",
    "        lat_long = linha + \"-\" + coluna\n",
    "        colunas_do_data_frame.append(lat_long)"
   ]
  },
  {
   "cell_type": "markdown",
   "metadata": {},
   "source": [
    "### Lendo arquivo \"grande\" de 01/64 a 04/2014"
   ]
  },
  {
   "cell_type": "code",
   "execution_count": 3,
   "metadata": {
    "collapsed": true
   },
   "outputs": [],
   "source": [
    "# Todo mês possui 25 linhas por 38 colunas que dá 950\n",
    "BLOCO_DE_DADOS_POR_MES = 950\n",
    "BLOCO_TOTAL = 573800 #(950 blocos x 604 meses)\n",
    "\n",
    "file_name = \"funceme_db/anomalia/geral/_Dados_TSMvento_2014_04_anomt6414b04\"\n",
    "file_content = open(file_name).read()\n",
    "file_content = file_content.replace(\"\\n\", \"\")\n",
    "\n",
    "# Carrega todos os dados de anomalia em um único array\n",
    "block_size = 5\n",
    "full_data = []\n",
    "for rows_index in range(BLOCO_TOTAL):\n",
    "    # slice data like (n:n+5)\n",
    "    value = float(file_content[rows_index * block_size: rows_index * block_size + block_size])\n",
    "    value /= 10\n",
    "    full_data.append(value)"
   ]
  },
  {
   "cell_type": "markdown",
   "metadata": {},
   "source": [
    "### Função para lear arquivo mensal"
   ]
  },
  {
   "cell_type": "code",
   "execution_count": 4,
   "metadata": {
    "collapsed": true
   },
   "outputs": [],
   "source": [
    "def le_arquivo_mensal(file_name):\n",
    "    file_content = open(file_name).read()\n",
    "\n",
    "    file_header = file_content[0:25]\n",
    "\n",
    "    #Remove header de um único arquivo\n",
    "    file_content = file_content[25:]\n",
    "    file_content = file_content.replace(\"\\n\", \"\")\n",
    "\n",
    "    block_size = 5\n",
    "    dados_do_arquivo = []\n",
    "    for rows_index in range(BLOCO_DE_DADOS_POR_MES):\n",
    "        # slice data like (n:n+5)\n",
    "        value = float(file_content[rows_index * block_size: rows_index * block_size + block_size])\n",
    "        value /= 10\n",
    "        dados_do_arquivo.append(value)\n",
    "\n",
    "    return dados_do_arquivo"
   ]
  },
  {
   "cell_type": "markdown",
   "metadata": {},
   "source": [
    "### Lê arquivos individuais(de 05/2014 até 12/2017)\n"
   ]
  },
  {
   "cell_type": "code",
   "execution_count": 5,
   "metadata": {
    "collapsed": true
   },
   "outputs": [],
   "source": [
    "# Lista arquivos da pasta \"funceme_db/anomalia/individual\"\n",
    "diretorio_anomalia_individual = \"funceme_db/anomalia/individual/\"\n",
    "\n",
    "lista_de_arquivos_individuais = []\n",
    "arquivos_do_diretorio = os.listdir(diretorio_anomalia_individual)\n",
    "\n",
    "#Adiciona apenas arquivos com extensão .22\n",
    "for arquivo in arquivos_do_diretorio:\n",
    "    if arquivo.endswith(\".22\"):\n",
    "        lista_de_arquivos_individuais.append(arquivo)\n",
    "\n",
    "#Para cada arquivo na lista é feito append na lista full_data\n",
    "for arquivo in lista_de_arquivos_individuais:\n",
    "        dados_mensais = le_arquivo_mensal(diretorio_anomalia_individual+arquivo)\n",
    "        for item in dados_mensais:\n",
    "            full_data.append(item)"
   ]
  },
  {
   "cell_type": "markdown",
   "metadata": {},
   "source": [
    "### Aumentando a capacidade do BLOCO_TOTAL para suportar os novos meses"
   ]
  },
  {
   "cell_type": "code",
   "execution_count": 6,
   "metadata": {
    "collapsed": true
   },
   "outputs": [],
   "source": [
    "##44 meses de 05/2014 até 12/2017\n",
    "BLOCO_TOTAL += 44*BLOCO_DE_DADOS_POR_MES # Que dá 41800"
   ]
  },
  {
   "cell_type": "code",
   "execution_count": 7,
   "metadata": {},
   "outputs": [
    {
     "name": "stdout",
     "output_type": "stream",
     "text": [
      "648\n"
     ]
    }
   ],
   "source": [
    "meses = []\n",
    "for i in range(0, BLOCO_TOTAL , 950):\n",
    "    mes = full_data[i:i+BLOCO_DE_DADOS_POR_MES]\n",
    "    meses.append(mes)\n",
    "print(len(meses))\n"
   ]
  },
  {
   "cell_type": "markdown",
   "metadata": {},
   "source": [
    "# Criando Pandas a partir dos dados de anomalida da FUNCEME"
   ]
  },
  {
   "cell_type": "code",
   "execution_count": 8,
   "metadata": {
    "collapsed": true
   },
   "outputs": [],
   "source": [
    "funceme_df = pd.DataFrame()"
   ]
  },
  {
   "cell_type": "code",
   "execution_count": 9,
   "metadata": {
    "collapsed": true
   },
   "outputs": [],
   "source": [
    "for mes in meses:\n",
    "    data = np.array(mes)\n",
    "    row_df = pd.DataFrame(data.reshape(-1, len(data)), columns=colunas_do_data_frame)\n",
    "    funceme_df = funceme_df.append(row_df)"
   ]
  },
  {
   "cell_type": "code",
   "execution_count": 10,
   "metadata": {},
   "outputs": [
    {
     "data": {
      "text/plain": [
       "(648, 950)"
      ]
     },
     "execution_count": 10,
     "metadata": {},
     "output_type": "execute_result"
    }
   ],
   "source": [
    "funceme_df.index = range(0, 648, 1)\n",
    "funceme_df.shape"
   ]
  },
  {
   "cell_type": "markdown",
   "metadata": {},
   "source": [
    "### Setando indices baseados na data\n"
   ]
  },
  {
   "cell_type": "code",
   "execution_count": 11,
   "metadata": {
    "collapsed": true
   },
   "outputs": [],
   "source": [
    "FORMAT = \"%Y-%m\"\n",
    "some_date_time1 = \"1964-01\"\n",
    "data_inicial = datetime.strptime(some_date_time1, FORMAT)\n",
    "indexes_data = []\n",
    "for i in range(len(meses)):\n",
    "    indexes_data.append(data_inicial + relativedelta(months=i))\n",
    "funceme_df=funceme_df.set_index(pd.DatetimeIndex(data=indexes_data))"
   ]
  },
  {
   "cell_type": "markdown",
   "metadata": {},
   "source": [
    "# Decomposição temporal da série\n"
   ]
  },
  {
   "cell_type": "markdown",
   "metadata": {},
   "source": [
    "### Filtro de data"
   ]
  },
  {
   "cell_type": "code",
   "execution_count": 12,
   "metadata": {
    "collapsed": true
   },
   "outputs": [],
   "source": [
    "funceme_df = funceme_df.loc['2009-01-01':'2017-12-01']"
   ]
  },
  {
   "cell_type": "markdown",
   "metadata": {},
   "source": [
    "# Função que decompões função baseado na lat, long"
   ]
  },
  {
   "cell_type": "code",
   "execution_count": 13,
   "metadata": {
    "collapsed": true
   },
   "outputs": [],
   "source": [
    "def monta_grafico_de_decomposicao(coluna):\n",
    "    decompose_model = seasonal.seasonal_decompose(funceme_df[coluna].tolist(), freq=12,\n",
    "                                          model='additive')\n",
    "    fig, axarr = plt.subplots(4, sharex=True)\n",
    "    fig.set_size_inches(5.5, 5.5)\n",
    "\n",
    "    funceme_df[coluna].plot(ax=axarr[0], color='b', linestyle='-')\n",
    "    axarr[0].set_title('Gráfico mensal')\n",
    "\n",
    "    pd.Series(data=decompose_model.trend, index=funceme_df.index).plot(color='r', linestyle='-', ax=axarr[1])\n",
    "    axarr[1].set_title('Gráfico de Tendência')\n",
    "\n",
    "    pd.Series(data=decompose_model.seasonal, index=funceme_df.index).plot(color='g', linestyle='-', ax=axarr[2])\n",
    "    axarr[2].set_title('Componente Sazonal')\n",
    "\n",
    "    pd.Series(data=decompose_model.resid, index=funceme_df.index).plot(color='k', linestyle='-', ax=axarr[3])\n",
    "    axarr[3].set_title('Variações irregulares')\n",
    "\n",
    "    plt.tight_layout(pad=0.4, w_pad=0.5, h_pad=2.0)\n",
    "    plt.xticks(rotation=10)\n"
   ]
  },
  {
   "cell_type": "markdown",
   "metadata": {
    "collapsed": true
   },
   "source": [
    "# Removendo colunas que possuem valor 9999.8"
   ]
  },
  {
   "cell_type": "code",
   "execution_count": 14,
   "metadata": {},
   "outputs": [
    {
     "data": {
      "text/plain": [
       "(108, 950)"
      ]
     },
     "execution_count": 14,
     "metadata": {},
     "output_type": "execute_result"
    }
   ],
   "source": [
    "funceme_df.shape"
   ]
  },
  {
   "cell_type": "code",
   "execution_count": 15,
   "metadata": {},
   "outputs": [
    {
     "data": {
      "text/plain": [
       "Index(['60W-30N', '60W-28N', '60W-26N', '60W-24N', '60W-22N', '60W-20N',\n",
       "       '60W-18N', '60W-16N', '60W-14N', '60W-12N',\n",
       "       ...\n",
       "       '14E-0S', '14E-2S', '14E-4S', '14E-6S', '14E-8S', '14E-10S', '14E-12S',\n",
       "       '14E-14S', '14E-16S', '14E-18S'],\n",
       "      dtype='object', length=950)"
      ]
     },
     "execution_count": 15,
     "metadata": {},
     "output_type": "execute_result"
    }
   ],
   "source": [
    "funceme_df.columns"
   ]
  },
  {
   "cell_type": "code",
   "execution_count": 16,
   "metadata": {
    "collapsed": true
   },
   "outputs": [],
   "source": [
    "funceme_df = funceme_df.replace(9999.8, np.nan)"
   ]
  },
  {
   "cell_type": "code",
   "execution_count": 17,
   "metadata": {
    "collapsed": true
   },
   "outputs": [],
   "source": [
    "funceme_df.dropna(axis=1, how='all', inplace=True)"
   ]
  },
  {
   "cell_type": "code",
   "execution_count": 18,
   "metadata": {},
   "outputs": [
    {
     "data": {
      "text/plain": [
       "(108, 628)"
      ]
     },
     "execution_count": 18,
     "metadata": {},
     "output_type": "execute_result"
    }
   ],
   "source": [
    "funceme_df.shape"
   ]
  },
  {
   "cell_type": "markdown",
   "metadata": {},
   "source": [
    "# Calcula média mensal (passo 1)"
   ]
  },
  {
   "cell_type": "code",
   "execution_count": 19,
   "metadata": {},
   "outputs": [
    {
     "data": {
      "text/plain": [
       "0.5405181056853032"
      ]
     },
     "execution_count": 19,
     "metadata": {},
     "output_type": "execute_result"
    }
   ],
   "source": [
    "# Cria média para cada mês adicionando a coluna \"media_mensal\"\n",
    "medias_mensais = []\n",
    "for date,row in funceme_df.iterrows():\n",
    "    media = (reduce(lambda x,y: x+y,row)/len(row))\n",
    "    medias_mensais.append(media)\n",
    "funceme_df.loc[:,\"media_mensal\"] = pd.Series(medias_mensais, index=funceme_df.index)\n",
    "\n",
    "MEDIA_GERAL = funceme_df[\"media_mensal\"].mean()\n",
    "MEDIA_GERAL"
   ]
  },
  {
   "cell_type": "markdown",
   "metadata": {},
   "source": [
    "# Calcula média mensal do período(passo 2)"
   ]
  },
  {
   "cell_type": "code",
   "execution_count": 20,
   "metadata": {},
   "outputs": [],
   "source": [
    "anomalia = []\n",
    "for date,row in funceme_df.iterrows():\n",
    "    anomalia_do_mes = row[\"media_mensal\"] - MEDIA_GERAL\n",
    "    anomalia.append(anomalia_do_mes)\n",
    "funceme_df.loc[:,\"anomalia_mensal\"] = pd.Series(anomalia, index=funceme_df.index)\n",
    "       "
   ]
  },
  {
   "cell_type": "markdown",
   "metadata": {},
   "source": [
    "# Monta gráfico de anoamalia de jan-2009  até dez-2017(passo 3)"
   ]
  },
  {
   "cell_type": "code",
   "execution_count": 21,
   "metadata": {},
   "outputs": [
    {
     "data": {
      "image/png": "[encoded data removed]",
      "text/plain": [
       "<matplotlib.figure.Figure at 0x10dc81c50>"
      ]
     },
     "metadata": {},
     "output_type": "display_data"
    }
   ],
   "source": [
    "monta_grafico_de_decomposicao('anomalia_mensal')"
   ]
  },
  {
   "cell_type": "code",
   "execution_count": null,
   "metadata": {
    "collapsed": true
   },
   "outputs": [],
   "source": []
  }
 ],
 "metadata": {
  "kernelspec": {
   "display_name": "Python 3",
   "language": "python",
   "name": "python3"
  },
  "language_info": {
   "codemirror_mode": {
    "name": "ipython",
    "version": 3
   },
   "file_extension": ".py",
   "mimetype": "text/x-python",
   "name": "python",
   "nbconvert_exporter": "python",
   "pygments_lexer": "ipython3",
   "version": "3.6.4"
  }
 },
 "nbformat": 4,
 "nbformat_minor": 2
}
