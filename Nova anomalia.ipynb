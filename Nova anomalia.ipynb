{
 "cells": [
  {
   "cell_type": "markdown",
   "metadata": {},
   "source": [
    "### Imports básicos\n"
   ]
  },
  {
   "cell_type": "code",
   "execution_count": 1,
   "metadata": {
    "collapsed": true
   },
   "outputs": [],
   "source": [
    "from copy import deepcopy\n",
    "import pandas as pd\n",
    "import numpy as np\n",
    "import os\n"
   ]
  },
  {
   "cell_type": "markdown",
   "metadata": {},
   "source": [
    "### Setando nome das colunas baseados em latitude e longitude\n"
   ]
  },
  {
   "cell_type": "code",
   "execution_count": 2,
   "metadata": {
    "collapsed": true
   },
   "outputs": [],
   "source": [
    "w_values = range(60,0,-2)\n",
    "e_values = range(0,15,2)\n",
    "n_values = range(30,0,-2)\n",
    "s_values = range(0,20,2)\n",
    "\n",
    "colunas = []\n",
    "linhas = []\n",
    "\n",
    "# LINHA\n",
    "for value in w_values:\n",
    "    column_name = str(value) + \"W\"\n",
    "    linhas.append(column_name)\n",
    "    \n",
    "for value in e_values:\n",
    "    column_name = str(value) + \"E\"\n",
    "    linhas.append(column_name)\n",
    "\n",
    "# COLUNA    \n",
    "for value in n_values:\n",
    "    column_name = str(value) + \"N\"\n",
    "    colunas.append(column_name)\n",
    "    \n",
    "for value in s_values:\n",
    "    column_name = str(value) + \"S\"\n",
    "    colunas.append(column_name)\n",
    "\n",
    "colunas_do_data_frame = []\n",
    "for linha in linhas:\n",
    "    for coluna in colunas:\n",
    "        lat_long = linha + \"-\" + coluna\n",
    "        colunas_do_data_frame.append(lat_long)"
   ]
  },
  {
   "cell_type": "markdown",
   "metadata": {},
   "source": [
    "### Lendo arquivo e substituindo as quebras de linhas por blank"
   ]
  },
  {
   "cell_type": "code",
   "execution_count": 3,
   "metadata": {
    "collapsed": true
   },
   "outputs": [],
   "source": [
    "file_name = \"funceme_db/anomalia/geral/_Dados_TSMvento_2014_04_anomt6414b04\"\n",
    "file_content = open(file_name).read()\n",
    "file_content = file_content.replace(\"\\n\", \"\")"
   ]
  },
  {
   "cell_type": "markdown",
   "metadata": {},
   "source": [
    "\n",
    "### Constantes"
   ]
  },
  {
   "cell_type": "code",
   "execution_count": 4,
   "metadata": {
    "collapsed": true
   },
   "outputs": [],
   "source": [
    "# Todo mês possui 25 linhas por 38 colunas que dá 950\n",
    "BLOCO_DE_DADOS_POR_MES = 950\n",
    "BLOCO_TOTAL = 573800 #(950 blocos x 604 meses)"
   ]
  },
  {
   "cell_type": "markdown",
   "metadata": {},
   "source": [
    "### Carrega todos os dados de anomalia em um único array enorme "
   ]
  },
  {
   "cell_type": "code",
   "execution_count": 5,
   "metadata": {
    "collapsed": true
   },
   "outputs": [],
   "source": [
    "# Carrega todos os dados de anomalia em um único array\n",
    "block_size = 5\n",
    "full_data = []\n",
    "for rows_index in range(BLOCO_TOTAL):\n",
    "    # slice data like (n:n+5)\n",
    "    value = float(file_content[rows_index * block_size: rows_index * block_size + block_size])\n",
    "    value /= 10\n",
    "    full_data.append(value)"
   ]
  },
  {
   "cell_type": "markdown",
   "metadata": {},
   "source": [
    "Para fins de debug"
   ]
  },
  {
   "cell_type": "code",
   "execution_count": 34,
   "metadata": {},
   "outputs": [],
   "source": [
    "def le_arquivo_mensal(file_name):\n",
    "    file_content = open(file_name).read()\n",
    "\n",
    "    file_header = file_content[0:25]\n",
    "\n",
    "    #Remove header de um único arquivo\n",
    "    file_content = file_content[25:]\n",
    "    file_content = file_content.replace(\"\\n\", \"\")\n",
    "\n",
    "    block_size = 5\n",
    "    dados_do_arquivo = []\n",
    "    for rows_index in range(BLOCO_DE_DADOS_POR_MES):\n",
    "        # slice data like (n:n+5)\n",
    "        dados_do_arquivo.append(file_content[rows_index * block_size: rows_index * block_size + block_size])\n",
    "\n",
    "    return dados_do_arquivo\n",
    "\n",
    "\n"
   ]
  },
  {
   "cell_type": "markdown",
   "metadata": {},
   "source": [
    "### Adiciona arquivos que nào estão no arquivo geral de anomalias(está horrível, eu sei, mas vou melhorar)\n"
   ]
  },
  {
   "cell_type": "code",
   "execution_count": 39,
   "metadata": {},
   "outputs": [
    {
     "name": "stdout",
     "output_type": "stream",
     "text": [
      "_Dados_TSMvento_2014_05_sst_total_05_2014_ano.22\n"
     ]
    }
   ],
   "source": [
    "import os\n",
    "novo_mes = le_arquivo_mensal(\"funceme_db/anomalia/individual/_Dados_TSMvento_2014_05_sst_total_05_2014_ano.22\")\n",
    "for item in novo_mes:\n",
    "    full_data.append(item)\n",
    "    \n",
    "arquivos_adicionais = []\n",
    "arquivos_do_diretorio = os.listdir(\"funceme_db/anomalia/individual\")\n",
    "for arquivo in arquivos_do_diretorio:\n",
    "    if arquivo.endswith(\".22\"):\n",
    "        arquivos_adicionais.append(arquivo)\n",
    "print(arquivos_adicionais[0])"
   ]
  },
  {
   "cell_type": "code",
   "execution_count": 20,
   "metadata": {},
   "outputs": [
    {
     "name": "stdout",
     "output_type": "stream",
     "text": [
      "605\n"
     ]
    }
   ],
   "source": [
    "meses = []\n",
    "for i in range(0, BLOCO_TOTAL + BLOCO_DE_DADOS_POR_MES, 950):\n",
    "#     print(i, i+BLOCO_DE_DADOS_POR_MES)\n",
    "    mes = full_data[i:i+BLOCO_DE_DADOS_POR_MES]\n",
    "    meses.append(mes)\n",
    "print(len(meses))\n"
   ]
  },
  {
   "cell_type": "markdown",
   "metadata": {},
   "source": [
    "# Criando Pandas a partir dos dados de anomalida da FUNCEME"
   ]
  },
  {
   "cell_type": "code",
   "execution_count": 21,
   "metadata": {
    "collapsed": true
   },
   "outputs": [],
   "source": [
    "funceme_df = pd.DataFrame()"
   ]
  },
  {
   "cell_type": "code",
   "execution_count": 22,
   "metadata": {},
   "outputs": [],
   "source": [
    "columns = range(0,950)\n",
    "for mes in meses:\n",
    "    data = np.array(mes)\n",
    "    row_df = pd.DataFrame(data.reshape(-1, len(data)), columns=colunas_do_data_frame)\n",
    "    funceme_df = funceme_df.append(row_df)"
   ]
  },
  {
   "cell_type": "code",
   "execution_count": 23,
   "metadata": {},
   "outputs": [
    {
     "data": {
      "text/plain": [
       "(605, 950)"
      ]
     },
     "execution_count": 23,
     "metadata": {},
     "output_type": "execute_result"
    }
   ],
   "source": [
    "funceme_df.index = range(0, 605, 1)\n",
    "funceme_df.shape\n"
   ]
  },
  {
   "cell_type": "code",
   "execution_count": 24,
   "metadata": {},
   "outputs": [
    {
     "data": {
      "text/html": [
       "<div>\n",
       "<style>\n",
       "    .dataframe thead tr:only-child th {\n",
       "        text-align: right;\n",
       "    }\n",
       "\n",
       "    .dataframe thead th {\n",
       "        text-align: left;\n",
       "    }\n",
       "\n",
       "    .dataframe tbody tr th {\n",
       "        vertical-align: top;\n",
       "    }\n",
       "</style>\n",
       "<table border=\"1\" class=\"dataframe\">\n",
       "  <thead>\n",
       "    <tr style=\"text-align: right;\">\n",
       "      <th></th>\n",
       "      <th>60W-30N</th>\n",
       "      <th>60W-28N</th>\n",
       "      <th>60W-26N</th>\n",
       "      <th>60W-24N</th>\n",
       "      <th>60W-22N</th>\n",
       "      <th>60W-20N</th>\n",
       "      <th>60W-18N</th>\n",
       "      <th>60W-16N</th>\n",
       "      <th>60W-14N</th>\n",
       "      <th>60W-12N</th>\n",
       "      <th>...</th>\n",
       "      <th>14E-0S</th>\n",
       "      <th>14E-2S</th>\n",
       "      <th>14E-4S</th>\n",
       "      <th>14E-6S</th>\n",
       "      <th>14E-8S</th>\n",
       "      <th>14E-10S</th>\n",
       "      <th>14E-12S</th>\n",
       "      <th>14E-14S</th>\n",
       "      <th>14E-16S</th>\n",
       "      <th>14E-18S</th>\n",
       "    </tr>\n",
       "  </thead>\n",
       "  <tbody>\n",
       "    <tr>\n",
       "      <th>600</th>\n",
       "      <td>1.6</td>\n",
       "      <td>1.6</td>\n",
       "      <td>1.5</td>\n",
       "      <td>1.4</td>\n",
       "      <td>1.3</td>\n",
       "      <td>1.2</td>\n",
       "      <td>1</td>\n",
       "      <td>0.8</td>\n",
       "      <td>0.7</td>\n",
       "      <td>0.6</td>\n",
       "      <td>...</td>\n",
       "      <td>0.2</td>\n",
       "      <td>0.3</td>\n",
       "      <td>0.4</td>\n",
       "      <td>0.6</td>\n",
       "      <td>0.6</td>\n",
       "      <td>0.5</td>\n",
       "      <td>0.4</td>\n",
       "      <td>0.4</td>\n",
       "      <td>0.4</td>\n",
       "      <td>9999.8</td>\n",
       "    </tr>\n",
       "    <tr>\n",
       "      <th>601</th>\n",
       "      <td>1.9</td>\n",
       "      <td>1.7</td>\n",
       "      <td>1.6</td>\n",
       "      <td>1.4</td>\n",
       "      <td>1.2</td>\n",
       "      <td>1</td>\n",
       "      <td>0.8</td>\n",
       "      <td>0.7</td>\n",
       "      <td>0.6</td>\n",
       "      <td>0.5</td>\n",
       "      <td>...</td>\n",
       "      <td>0.8</td>\n",
       "      <td>0.6</td>\n",
       "      <td>0.4</td>\n",
       "      <td>0.2</td>\n",
       "      <td>0</td>\n",
       "      <td>0</td>\n",
       "      <td>0</td>\n",
       "      <td>0.1</td>\n",
       "      <td>0.2</td>\n",
       "      <td>9999.8</td>\n",
       "    </tr>\n",
       "    <tr>\n",
       "      <th>602</th>\n",
       "      <td>1.7</td>\n",
       "      <td>1.6</td>\n",
       "      <td>1.4</td>\n",
       "      <td>1.3</td>\n",
       "      <td>1.2</td>\n",
       "      <td>1.2</td>\n",
       "      <td>1.2</td>\n",
       "      <td>1.1</td>\n",
       "      <td>1.1</td>\n",
       "      <td>0.9</td>\n",
       "      <td>...</td>\n",
       "      <td>1</td>\n",
       "      <td>1.1</td>\n",
       "      <td>1.1</td>\n",
       "      <td>1.2</td>\n",
       "      <td>1</td>\n",
       "      <td>0.7</td>\n",
       "      <td>0.5</td>\n",
       "      <td>0.3</td>\n",
       "      <td>0.1</td>\n",
       "      <td>9999.8</td>\n",
       "    </tr>\n",
       "    <tr>\n",
       "      <th>603</th>\n",
       "      <td>1.2</td>\n",
       "      <td>1.2</td>\n",
       "      <td>1.1</td>\n",
       "      <td>1</td>\n",
       "      <td>0.9</td>\n",
       "      <td>0.8</td>\n",
       "      <td>0.7</td>\n",
       "      <td>0.6</td>\n",
       "      <td>0.6</td>\n",
       "      <td>0.5</td>\n",
       "      <td>...</td>\n",
       "      <td>0.6</td>\n",
       "      <td>0.7</td>\n",
       "      <td>0.7</td>\n",
       "      <td>0.5</td>\n",
       "      <td>0.2</td>\n",
       "      <td>-0.3</td>\n",
       "      <td>-0.8</td>\n",
       "      <td>-1.2</td>\n",
       "      <td>-1.7</td>\n",
       "      <td>9999.8</td>\n",
       "    </tr>\n",
       "    <tr>\n",
       "      <th>604</th>\n",
       "      <td>[    6,     6,     5,     5,     6,     5,    ...</td>\n",
       "      <td>[    5,     5,     5,     4,     4,     4,    ...</td>\n",
       "      <td>[    5,     4,     4,     3,     3,     3,    ...</td>\n",
       "      <td>[    5,     4,     3,     3,     2,     2,    ...</td>\n",
       "      <td>[    3,     3,     2,     2,     1,     1,    ...</td>\n",
       "      <td>[    1,     1,     1,     1,     0,    -1,    ...</td>\n",
       "      <td>[    0,     0,     0,     0,    -1,    -2,    ...</td>\n",
       "      <td>[    0,     0,    -1,    -1,    -1,    -1,    ...</td>\n",
       "      <td>[    0,     0,    -1,    -1,    -1,    -1,    ...</td>\n",
       "      <td>[    1,     0,     0,    -1,    -1,    -1,    ...</td>\n",
       "      <td>...</td>\n",
       "      <td>99998</td>\n",
       "      <td>99998</td>\n",
       "      <td>99998</td>\n",
       "      <td>99998</td>\n",
       "      <td>99998</td>\n",
       "      <td>99998</td>\n",
       "      <td>99998</td>\n",
       "      <td>3</td>\n",
       "      <td>3</td>\n",
       "      <td>4</td>\n",
       "    </tr>\n",
       "  </tbody>\n",
       "</table>\n",
       "<p>5 rows × 950 columns</p>\n",
       "</div>"
      ],
      "text/plain": [
       "                                               60W-30N  \\\n",
       "600                                                1.6   \n",
       "601                                                1.9   \n",
       "602                                                1.7   \n",
       "603                                                1.2   \n",
       "604  [    6,     6,     5,     5,     6,     5,    ...   \n",
       "\n",
       "                                               60W-28N  \\\n",
       "600                                                1.6   \n",
       "601                                                1.7   \n",
       "602                                                1.6   \n",
       "603                                                1.2   \n",
       "604  [    5,     5,     5,     4,     4,     4,    ...   \n",
       "\n",
       "                                               60W-26N  \\\n",
       "600                                                1.5   \n",
       "601                                                1.6   \n",
       "602                                                1.4   \n",
       "603                                                1.1   \n",
       "604  [    5,     4,     4,     3,     3,     3,    ...   \n",
       "\n",
       "                                               60W-24N  \\\n",
       "600                                                1.4   \n",
       "601                                                1.4   \n",
       "602                                                1.3   \n",
       "603                                                  1   \n",
       "604  [    5,     4,     3,     3,     2,     2,    ...   \n",
       "\n",
       "                                               60W-22N  \\\n",
       "600                                                1.3   \n",
       "601                                                1.2   \n",
       "602                                                1.2   \n",
       "603                                                0.9   \n",
       "604  [    3,     3,     2,     2,     1,     1,    ...   \n",
       "\n",
       "                                               60W-20N  \\\n",
       "600                                                1.2   \n",
       "601                                                  1   \n",
       "602                                                1.2   \n",
       "603                                                0.8   \n",
       "604  [    1,     1,     1,     1,     0,    -1,    ...   \n",
       "\n",
       "                                               60W-18N  \\\n",
       "600                                                  1   \n",
       "601                                                0.8   \n",
       "602                                                1.2   \n",
       "603                                                0.7   \n",
       "604  [    0,     0,     0,     0,    -1,    -2,    ...   \n",
       "\n",
       "                                               60W-16N  \\\n",
       "600                                                0.8   \n",
       "601                                                0.7   \n",
       "602                                                1.1   \n",
       "603                                                0.6   \n",
       "604  [    0,     0,    -1,    -1,    -1,    -1,    ...   \n",
       "\n",
       "                                               60W-14N  \\\n",
       "600                                                0.7   \n",
       "601                                                0.6   \n",
       "602                                                1.1   \n",
       "603                                                0.6   \n",
       "604  [    0,     0,    -1,    -1,    -1,    -1,    ...   \n",
       "\n",
       "                                               60W-12N   ...   14E-0S 14E-2S  \\\n",
       "600                                                0.6   ...      0.2    0.3   \n",
       "601                                                0.5   ...      0.8    0.6   \n",
       "602                                                0.9   ...        1    1.1   \n",
       "603                                                0.5   ...      0.6    0.7   \n",
       "604  [    1,     0,     0,    -1,    -1,    -1,    ...   ...    99998  99998   \n",
       "\n",
       "    14E-4S 14E-6S 14E-8S 14E-10S 14E-12S 14E-14S 14E-16S 14E-18S  \n",
       "600    0.4    0.6    0.6     0.5     0.4     0.4     0.4  9999.8  \n",
       "601    0.4    0.2      0       0       0     0.1     0.2  9999.8  \n",
       "602    1.1    1.2      1     0.7     0.5     0.3     0.1  9999.8  \n",
       "603    0.7    0.5    0.2    -0.3    -0.8    -1.2    -1.7  9999.8  \n",
       "604  99998  99998  99998   99998   99998       3       3       4  \n",
       "\n",
       "[5 rows x 950 columns]"
      ]
     },
     "execution_count": 24,
     "metadata": {},
     "output_type": "execute_result"
    }
   ],
   "source": [
    "funceme_df.tail()"
   ]
  },
  {
   "cell_type": "markdown",
   "metadata": {},
   "source": [
    "### Setando indices baseados na data\n"
   ]
  },
  {
   "cell_type": "code",
   "execution_count": 25,
   "metadata": {
    "collapsed": true
   },
   "outputs": [],
   "source": [
    "from datetime import datetime\n",
    "from dateutil.relativedelta import relativedelta\n",
    "\n",
    "FORMAT = \"%Y-%m\"\n",
    "some_date_time1 = \"1964-01\"\n",
    "data_inicial = datetime.strptime(some_date_time1, FORMAT)\n",
    "data_depois = data_inicial + relativedelta(months=1)"
   ]
  },
  {
   "cell_type": "code",
   "execution_count": 26,
   "metadata": {
    "collapsed": true
   },
   "outputs": [],
   "source": [
    "indexes_data = []\n",
    "for i in range(len(meses)):\n",
    "    indexes_data.append(data_inicial + relativedelta(months=i))"
   ]
  },
  {
   "cell_type": "code",
   "execution_count": 27,
   "metadata": {},
   "outputs": [],
   "source": [
    "funceme_df=funceme_df.set_index(pd.DatetimeIndex(data=indexes_data))"
   ]
  },
  {
   "cell_type": "code",
   "execution_count": 28,
   "metadata": {},
   "outputs": [
    {
     "data": {
      "text/html": [
       "<div>\n",
       "<style>\n",
       "    .dataframe thead tr:only-child th {\n",
       "        text-align: right;\n",
       "    }\n",
       "\n",
       "    .dataframe thead th {\n",
       "        text-align: left;\n",
       "    }\n",
       "\n",
       "    .dataframe tbody tr th {\n",
       "        vertical-align: top;\n",
       "    }\n",
       "</style>\n",
       "<table border=\"1\" class=\"dataframe\">\n",
       "  <thead>\n",
       "    <tr style=\"text-align: right;\">\n",
       "      <th></th>\n",
       "      <th>60W-30N</th>\n",
       "      <th>60W-28N</th>\n",
       "      <th>60W-26N</th>\n",
       "      <th>60W-24N</th>\n",
       "      <th>60W-22N</th>\n",
       "      <th>60W-20N</th>\n",
       "      <th>60W-18N</th>\n",
       "      <th>60W-16N</th>\n",
       "      <th>60W-14N</th>\n",
       "      <th>60W-12N</th>\n",
       "      <th>...</th>\n",
       "      <th>14E-0S</th>\n",
       "      <th>14E-2S</th>\n",
       "      <th>14E-4S</th>\n",
       "      <th>14E-6S</th>\n",
       "      <th>14E-8S</th>\n",
       "      <th>14E-10S</th>\n",
       "      <th>14E-12S</th>\n",
       "      <th>14E-14S</th>\n",
       "      <th>14E-16S</th>\n",
       "      <th>14E-18S</th>\n",
       "    </tr>\n",
       "  </thead>\n",
       "  <tbody>\n",
       "    <tr>\n",
       "      <th>1964-01-01</th>\n",
       "      <td>0.4</td>\n",
       "      <td>0.4</td>\n",
       "      <td>0.5</td>\n",
       "      <td>0.5</td>\n",
       "      <td>0.5</td>\n",
       "      <td>0.5</td>\n",
       "      <td>0.4</td>\n",
       "      <td>0.2</td>\n",
       "      <td>0</td>\n",
       "      <td>0</td>\n",
       "      <td>...</td>\n",
       "      <td>0.4</td>\n",
       "      <td>0.7</td>\n",
       "      <td>0.9</td>\n",
       "      <td>1.1</td>\n",
       "      <td>0.8</td>\n",
       "      <td>0.9</td>\n",
       "      <td>1.1</td>\n",
       "      <td>1.3</td>\n",
       "      <td>1.8</td>\n",
       "      <td>9999.8</td>\n",
       "    </tr>\n",
       "    <tr>\n",
       "      <th>1964-02-01</th>\n",
       "      <td>0.2</td>\n",
       "      <td>0</td>\n",
       "      <td>0</td>\n",
       "      <td>-0.2</td>\n",
       "      <td>-0.2</td>\n",
       "      <td>-0.2</td>\n",
       "      <td>0.1</td>\n",
       "      <td>0.3</td>\n",
       "      <td>0.4</td>\n",
       "      <td>0.7</td>\n",
       "      <td>...</td>\n",
       "      <td>-0.2</td>\n",
       "      <td>-0.1</td>\n",
       "      <td>0</td>\n",
       "      <td>-0.2</td>\n",
       "      <td>-0.3</td>\n",
       "      <td>-0.2</td>\n",
       "      <td>-0.1</td>\n",
       "      <td>0</td>\n",
       "      <td>0.2</td>\n",
       "      <td>9999.8</td>\n",
       "    </tr>\n",
       "    <tr>\n",
       "      <th>1964-03-01</th>\n",
       "      <td>-0.1</td>\n",
       "      <td>0.1</td>\n",
       "      <td>0.2</td>\n",
       "      <td>0.3</td>\n",
       "      <td>0.4</td>\n",
       "      <td>0.4</td>\n",
       "      <td>0.5</td>\n",
       "      <td>0.5</td>\n",
       "      <td>0.5</td>\n",
       "      <td>0.5</td>\n",
       "      <td>...</td>\n",
       "      <td>-0.5</td>\n",
       "      <td>-0.6</td>\n",
       "      <td>-0.6</td>\n",
       "      <td>-0.5</td>\n",
       "      <td>-0.4</td>\n",
       "      <td>-0.2</td>\n",
       "      <td>0</td>\n",
       "      <td>0.1</td>\n",
       "      <td>0.3</td>\n",
       "      <td>9999.8</td>\n",
       "    </tr>\n",
       "    <tr>\n",
       "      <th>1964-04-01</th>\n",
       "      <td>0.8</td>\n",
       "      <td>0.6</td>\n",
       "      <td>0.5</td>\n",
       "      <td>0.6</td>\n",
       "      <td>0.5</td>\n",
       "      <td>0.5</td>\n",
       "      <td>0.5</td>\n",
       "      <td>0.5</td>\n",
       "      <td>0.5</td>\n",
       "      <td>0.5</td>\n",
       "      <td>...</td>\n",
       "      <td>0.2</td>\n",
       "      <td>-0.4</td>\n",
       "      <td>-0.7</td>\n",
       "      <td>-0.8</td>\n",
       "      <td>-0.8</td>\n",
       "      <td>-0.1</td>\n",
       "      <td>0.4</td>\n",
       "      <td>1</td>\n",
       "      <td>1.5</td>\n",
       "      <td>9999.8</td>\n",
       "    </tr>\n",
       "    <tr>\n",
       "      <th>1964-05-01</th>\n",
       "      <td>0.7</td>\n",
       "      <td>0.7</td>\n",
       "      <td>0.7</td>\n",
       "      <td>0.7</td>\n",
       "      <td>0.7</td>\n",
       "      <td>0.7</td>\n",
       "      <td>0.7</td>\n",
       "      <td>0.7</td>\n",
       "      <td>0.5</td>\n",
       "      <td>0.4</td>\n",
       "      <td>...</td>\n",
       "      <td>0.2</td>\n",
       "      <td>0.1</td>\n",
       "      <td>-0.1</td>\n",
       "      <td>-0.6</td>\n",
       "      <td>-1</td>\n",
       "      <td>-1.3</td>\n",
       "      <td>-1.7</td>\n",
       "      <td>-2</td>\n",
       "      <td>-2.2</td>\n",
       "      <td>9999.8</td>\n",
       "    </tr>\n",
       "  </tbody>\n",
       "</table>\n",
       "<p>5 rows × 950 columns</p>\n",
       "</div>"
      ],
      "text/plain": [
       "           60W-30N 60W-28N 60W-26N 60W-24N 60W-22N 60W-20N 60W-18N 60W-16N  \\\n",
       "1964-01-01     0.4     0.4     0.5     0.5     0.5     0.5     0.4     0.2   \n",
       "1964-02-01     0.2       0       0    -0.2    -0.2    -0.2     0.1     0.3   \n",
       "1964-03-01    -0.1     0.1     0.2     0.3     0.4     0.4     0.5     0.5   \n",
       "1964-04-01     0.8     0.6     0.5     0.6     0.5     0.5     0.5     0.5   \n",
       "1964-05-01     0.7     0.7     0.7     0.7     0.7     0.7     0.7     0.7   \n",
       "\n",
       "           60W-14N 60W-12N   ...   14E-0S 14E-2S 14E-4S 14E-6S 14E-8S 14E-10S  \\\n",
       "1964-01-01       0       0   ...      0.4    0.7    0.9    1.1    0.8     0.9   \n",
       "1964-02-01     0.4     0.7   ...     -0.2   -0.1      0   -0.2   -0.3    -0.2   \n",
       "1964-03-01     0.5     0.5   ...     -0.5   -0.6   -0.6   -0.5   -0.4    -0.2   \n",
       "1964-04-01     0.5     0.5   ...      0.2   -0.4   -0.7   -0.8   -0.8    -0.1   \n",
       "1964-05-01     0.5     0.4   ...      0.2    0.1   -0.1   -0.6     -1    -1.3   \n",
       "\n",
       "           14E-12S 14E-14S 14E-16S 14E-18S  \n",
       "1964-01-01     1.1     1.3     1.8  9999.8  \n",
       "1964-02-01    -0.1       0     0.2  9999.8  \n",
       "1964-03-01       0     0.1     0.3  9999.8  \n",
       "1964-04-01     0.4       1     1.5  9999.8  \n",
       "1964-05-01    -1.7      -2    -2.2  9999.8  \n",
       "\n",
       "[5 rows x 950 columns]"
      ]
     },
     "execution_count": 28,
     "metadata": {},
     "output_type": "execute_result"
    }
   ],
   "source": [
    "funceme_df.head()"
   ]
  },
  {
   "cell_type": "code",
   "execution_count": 29,
   "metadata": {},
   "outputs": [
    {
     "data": {
      "text/html": [
       "<div>\n",
       "<style>\n",
       "    .dataframe thead tr:only-child th {\n",
       "        text-align: right;\n",
       "    }\n",
       "\n",
       "    .dataframe thead th {\n",
       "        text-align: left;\n",
       "    }\n",
       "\n",
       "    .dataframe tbody tr th {\n",
       "        vertical-align: top;\n",
       "    }\n",
       "</style>\n",
       "<table border=\"1\" class=\"dataframe\">\n",
       "  <thead>\n",
       "    <tr style=\"text-align: right;\">\n",
       "      <th></th>\n",
       "      <th>60W-30N</th>\n",
       "      <th>60W-28N</th>\n",
       "      <th>60W-26N</th>\n",
       "      <th>60W-24N</th>\n",
       "      <th>60W-22N</th>\n",
       "      <th>60W-20N</th>\n",
       "      <th>60W-18N</th>\n",
       "      <th>60W-16N</th>\n",
       "      <th>60W-14N</th>\n",
       "      <th>60W-12N</th>\n",
       "      <th>...</th>\n",
       "      <th>14E-0S</th>\n",
       "      <th>14E-2S</th>\n",
       "      <th>14E-4S</th>\n",
       "      <th>14E-6S</th>\n",
       "      <th>14E-8S</th>\n",
       "      <th>14E-10S</th>\n",
       "      <th>14E-12S</th>\n",
       "      <th>14E-14S</th>\n",
       "      <th>14E-16S</th>\n",
       "      <th>14E-18S</th>\n",
       "    </tr>\n",
       "  </thead>\n",
       "  <tbody>\n",
       "    <tr>\n",
       "      <th>2014-01-01</th>\n",
       "      <td>1.6</td>\n",
       "      <td>1.6</td>\n",
       "      <td>1.5</td>\n",
       "      <td>1.4</td>\n",
       "      <td>1.3</td>\n",
       "      <td>1.2</td>\n",
       "      <td>1</td>\n",
       "      <td>0.8</td>\n",
       "      <td>0.7</td>\n",
       "      <td>0.6</td>\n",
       "      <td>...</td>\n",
       "      <td>0.2</td>\n",
       "      <td>0.3</td>\n",
       "      <td>0.4</td>\n",
       "      <td>0.6</td>\n",
       "      <td>0.6</td>\n",
       "      <td>0.5</td>\n",
       "      <td>0.4</td>\n",
       "      <td>0.4</td>\n",
       "      <td>0.4</td>\n",
       "      <td>9999.8</td>\n",
       "    </tr>\n",
       "    <tr>\n",
       "      <th>2014-02-01</th>\n",
       "      <td>1.9</td>\n",
       "      <td>1.7</td>\n",
       "      <td>1.6</td>\n",
       "      <td>1.4</td>\n",
       "      <td>1.2</td>\n",
       "      <td>1</td>\n",
       "      <td>0.8</td>\n",
       "      <td>0.7</td>\n",
       "      <td>0.6</td>\n",
       "      <td>0.5</td>\n",
       "      <td>...</td>\n",
       "      <td>0.8</td>\n",
       "      <td>0.6</td>\n",
       "      <td>0.4</td>\n",
       "      <td>0.2</td>\n",
       "      <td>0</td>\n",
       "      <td>0</td>\n",
       "      <td>0</td>\n",
       "      <td>0.1</td>\n",
       "      <td>0.2</td>\n",
       "      <td>9999.8</td>\n",
       "    </tr>\n",
       "    <tr>\n",
       "      <th>2014-03-01</th>\n",
       "      <td>1.7</td>\n",
       "      <td>1.6</td>\n",
       "      <td>1.4</td>\n",
       "      <td>1.3</td>\n",
       "      <td>1.2</td>\n",
       "      <td>1.2</td>\n",
       "      <td>1.2</td>\n",
       "      <td>1.1</td>\n",
       "      <td>1.1</td>\n",
       "      <td>0.9</td>\n",
       "      <td>...</td>\n",
       "      <td>1</td>\n",
       "      <td>1.1</td>\n",
       "      <td>1.1</td>\n",
       "      <td>1.2</td>\n",
       "      <td>1</td>\n",
       "      <td>0.7</td>\n",
       "      <td>0.5</td>\n",
       "      <td>0.3</td>\n",
       "      <td>0.1</td>\n",
       "      <td>9999.8</td>\n",
       "    </tr>\n",
       "    <tr>\n",
       "      <th>2014-04-01</th>\n",
       "      <td>1.2</td>\n",
       "      <td>1.2</td>\n",
       "      <td>1.1</td>\n",
       "      <td>1</td>\n",
       "      <td>0.9</td>\n",
       "      <td>0.8</td>\n",
       "      <td>0.7</td>\n",
       "      <td>0.6</td>\n",
       "      <td>0.6</td>\n",
       "      <td>0.5</td>\n",
       "      <td>...</td>\n",
       "      <td>0.6</td>\n",
       "      <td>0.7</td>\n",
       "      <td>0.7</td>\n",
       "      <td>0.5</td>\n",
       "      <td>0.2</td>\n",
       "      <td>-0.3</td>\n",
       "      <td>-0.8</td>\n",
       "      <td>-1.2</td>\n",
       "      <td>-1.7</td>\n",
       "      <td>9999.8</td>\n",
       "    </tr>\n",
       "    <tr>\n",
       "      <th>2014-05-01</th>\n",
       "      <td>[    6,     6,     5,     5,     6,     5,    ...</td>\n",
       "      <td>[    5,     5,     5,     4,     4,     4,    ...</td>\n",
       "      <td>[    5,     4,     4,     3,     3,     3,    ...</td>\n",
       "      <td>[    5,     4,     3,     3,     2,     2,    ...</td>\n",
       "      <td>[    3,     3,     2,     2,     1,     1,    ...</td>\n",
       "      <td>[    1,     1,     1,     1,     0,    -1,    ...</td>\n",
       "      <td>[    0,     0,     0,     0,    -1,    -2,    ...</td>\n",
       "      <td>[    0,     0,    -1,    -1,    -1,    -1,    ...</td>\n",
       "      <td>[    0,     0,    -1,    -1,    -1,    -1,    ...</td>\n",
       "      <td>[    1,     0,     0,    -1,    -1,    -1,    ...</td>\n",
       "      <td>...</td>\n",
       "      <td>99998</td>\n",
       "      <td>99998</td>\n",
       "      <td>99998</td>\n",
       "      <td>99998</td>\n",
       "      <td>99998</td>\n",
       "      <td>99998</td>\n",
       "      <td>99998</td>\n",
       "      <td>3</td>\n",
       "      <td>3</td>\n",
       "      <td>4</td>\n",
       "    </tr>\n",
       "  </tbody>\n",
       "</table>\n",
       "<p>5 rows × 950 columns</p>\n",
       "</div>"
      ],
      "text/plain": [
       "                                                      60W-30N  \\\n",
       "2014-01-01                                                1.6   \n",
       "2014-02-01                                                1.9   \n",
       "2014-03-01                                                1.7   \n",
       "2014-04-01                                                1.2   \n",
       "2014-05-01  [    6,     6,     5,     5,     6,     5,    ...   \n",
       "\n",
       "                                                      60W-28N  \\\n",
       "2014-01-01                                                1.6   \n",
       "2014-02-01                                                1.7   \n",
       "2014-03-01                                                1.6   \n",
       "2014-04-01                                                1.2   \n",
       "2014-05-01  [    5,     5,     5,     4,     4,     4,    ...   \n",
       "\n",
       "                                                      60W-26N  \\\n",
       "2014-01-01                                                1.5   \n",
       "2014-02-01                                                1.6   \n",
       "2014-03-01                                                1.4   \n",
       "2014-04-01                                                1.1   \n",
       "2014-05-01  [    5,     4,     4,     3,     3,     3,    ...   \n",
       "\n",
       "                                                      60W-24N  \\\n",
       "2014-01-01                                                1.4   \n",
       "2014-02-01                                                1.4   \n",
       "2014-03-01                                                1.3   \n",
       "2014-04-01                                                  1   \n",
       "2014-05-01  [    5,     4,     3,     3,     2,     2,    ...   \n",
       "\n",
       "                                                      60W-22N  \\\n",
       "2014-01-01                                                1.3   \n",
       "2014-02-01                                                1.2   \n",
       "2014-03-01                                                1.2   \n",
       "2014-04-01                                                0.9   \n",
       "2014-05-01  [    3,     3,     2,     2,     1,     1,    ...   \n",
       "\n",
       "                                                      60W-20N  \\\n",
       "2014-01-01                                                1.2   \n",
       "2014-02-01                                                  1   \n",
       "2014-03-01                                                1.2   \n",
       "2014-04-01                                                0.8   \n",
       "2014-05-01  [    1,     1,     1,     1,     0,    -1,    ...   \n",
       "\n",
       "                                                      60W-18N  \\\n",
       "2014-01-01                                                  1   \n",
       "2014-02-01                                                0.8   \n",
       "2014-03-01                                                1.2   \n",
       "2014-04-01                                                0.7   \n",
       "2014-05-01  [    0,     0,     0,     0,    -1,    -2,    ...   \n",
       "\n",
       "                                                      60W-16N  \\\n",
       "2014-01-01                                                0.8   \n",
       "2014-02-01                                                0.7   \n",
       "2014-03-01                                                1.1   \n",
       "2014-04-01                                                0.6   \n",
       "2014-05-01  [    0,     0,    -1,    -1,    -1,    -1,    ...   \n",
       "\n",
       "                                                      60W-14N  \\\n",
       "2014-01-01                                                0.7   \n",
       "2014-02-01                                                0.6   \n",
       "2014-03-01                                                1.1   \n",
       "2014-04-01                                                0.6   \n",
       "2014-05-01  [    0,     0,    -1,    -1,    -1,    -1,    ...   \n",
       "\n",
       "                                                      60W-12N   ...   14E-0S  \\\n",
       "2014-01-01                                                0.6   ...      0.2   \n",
       "2014-02-01                                                0.5   ...      0.8   \n",
       "2014-03-01                                                0.9   ...        1   \n",
       "2014-04-01                                                0.5   ...      0.6   \n",
       "2014-05-01  [    1,     0,     0,    -1,    -1,    -1,    ...   ...    99998   \n",
       "\n",
       "           14E-2S 14E-4S 14E-6S 14E-8S 14E-10S 14E-12S 14E-14S 14E-16S 14E-18S  \n",
       "2014-01-01    0.3    0.4    0.6    0.6     0.5     0.4     0.4     0.4  9999.8  \n",
       "2014-02-01    0.6    0.4    0.2      0       0       0     0.1     0.2  9999.8  \n",
       "2014-03-01    1.1    1.1    1.2      1     0.7     0.5     0.3     0.1  9999.8  \n",
       "2014-04-01    0.7    0.7    0.5    0.2    -0.3    -0.8    -1.2    -1.7  9999.8  \n",
       "2014-05-01  99998  99998  99998  99998   99998   99998       3       3       4  \n",
       "\n",
       "[5 rows x 950 columns]"
      ]
     },
     "execution_count": 29,
     "metadata": {},
     "output_type": "execute_result"
    }
   ],
   "source": [
    "funceme_df.tail()"
   ]
  },
  {
   "cell_type": "markdown",
   "metadata": {},
   "source": [
    "# Decomposição temporal da série\n"
   ]
  },
  {
   "cell_type": "markdown",
   "metadata": {},
   "source": [
    "### Adicional imports\n"
   ]
  },
  {
   "cell_type": "code",
   "execution_count": null,
   "metadata": {
    "collapsed": true
   },
   "outputs": [],
   "source": [
    "from statsmodels.tsa import stattools\n",
    "from statsmodels.tsa import seasonal\n",
    "%matplotlib inline\n",
    "from matplotlib import pyplot as plt"
   ]
  },
  {
   "cell_type": "markdown",
   "metadata": {},
   "source": [
    "### Filtro de data"
   ]
  },
  {
   "cell_type": "code",
   "execution_count": null,
   "metadata": {
    "collapsed": true
   },
   "outputs": [],
   "source": [
    "funceme_df = funceme_df.loc['2009-01-01':'2014-12-01']"
   ]
  },
  {
   "cell_type": "markdown",
   "metadata": {},
   "source": [
    "# Função que decompões função baseado na lat, long"
   ]
  },
  {
   "cell_type": "code",
   "execution_count": null,
   "metadata": {
    "collapsed": true
   },
   "outputs": [],
   "source": [
    "def monta_grafico_de_decomposicao(coluna):\n",
    "    decompose_model = seasonal.seasonal_decompose(funceme_df[coluna].tolist(), freq=12,\n",
    "                                          model='additive')\n",
    "    fig, axarr = plt.subplots(4, sharex=True)\n",
    "    fig.set_size_inches(5.5, 5.5)\n",
    "\n",
    "    funceme_df[coluna].plot(ax=axarr[0], color='b', linestyle='-')\n",
    "    axarr[0].set_title('Gráfico mensal')\n",
    "\n",
    "    pd.Series(data=decompose_model.trend, index=funceme_df.index).plot(color='r', linestyle='-', ax=axarr[1])\n",
    "    axarr[1].set_title('Gráfico de Tendência')\n",
    "\n",
    "    pd.Series(data=decompose_model.seasonal, index=funceme_df.index).plot(color='g', linestyle='-', ax=axarr[2])\n",
    "    axarr[2].set_title('Componente Seasonal')\n",
    "\n",
    "    pd.Series(data=decompose_model.resid, index=funceme_df.index).plot(color='k', linestyle='-', ax=axarr[3])\n",
    "    axarr[3].set_title('Variações irregulares')\n",
    "\n",
    "    plt.tight_layout(pad=0.4, w_pad=0.5, h_pad=2.0)\n",
    "    plt.xticks(rotation=10)\n"
   ]
  },
  {
   "cell_type": "code",
   "execution_count": null,
   "metadata": {
    "collapsed": true
   },
   "outputs": [],
   "source": [
    "monta_grafico_de_decomposicao('60W-30N')"
   ]
  },
  {
   "cell_type": "code",
   "execution_count": null,
   "metadata": {
    "collapsed": true
   },
   "outputs": [],
   "source": [
    "monta_grafico_de_decomposicao('60W-28N')"
   ]
  },
  {
   "cell_type": "code",
   "execution_count": null,
   "metadata": {
    "collapsed": true
   },
   "outputs": [],
   "source": [
    "monta_grafico_de_decomposicao('60W-26N')"
   ]
  },
  {
   "cell_type": "code",
   "execution_count": null,
   "metadata": {
    "collapsed": true
   },
   "outputs": [],
   "source": [
    "monta_grafico_de_decomposicao('60W-10N')"
   ]
  },
  {
   "cell_type": "code",
   "execution_count": null,
   "metadata": {
    "collapsed": true
   },
   "outputs": [],
   "source": [
    "monta_grafico_de_decomposicao('34W-16S')"
   ]
  },
  {
   "cell_type": "code",
   "execution_count": null,
   "metadata": {
    "collapsed": true
   },
   "outputs": [],
   "source": []
  }
 ],
 "metadata": {
  "kernelspec": {
   "display_name": "Python 3",
   "language": "python",
   "name": "python3"
  },
  "language_info": {
   "codemirror_mode": {
    "name": "ipython",
    "version": 3
   },
   "file_extension": ".py",
   "mimetype": "text/x-python",
   "name": "python",
   "nbconvert_exporter": "python",
   "pygments_lexer": "ipython3",
   "version": "3.6.4"
  }
 },
 "nbformat": 4,
 "nbformat_minor": 2
}
