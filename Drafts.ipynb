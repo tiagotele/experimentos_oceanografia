{
 "cells": [
  {
   "cell_type": "code",
   "execution_count": 1,
   "metadata": {},
   "outputs": [
    {
     "name": "stderr",
     "output_type": "stream",
     "text": [
      "/Users/Tiago/Library/Python/3.6/lib/python/site-packages/statsmodels/compat/pandas.py:56: FutureWarning: The pandas.core.datetools module is deprecated and will be removed in a future version. Please use the pandas.tseries module instead.\n",
      "  from pandas.core import datetools\n"
     ]
    }
   ],
   "source": [
    "import pandas as pd\n",
    "import numpy as np\n",
    "import os\n",
    "import re\n",
    "from dateutil.relativedelta import relativedelta\n",
    "from statsmodels.tsa import seasonal\n",
    "from matplotlib import pyplot as plt\n",
    "from functools import reduce  # Operação de reduce para cálculo de média de uma lista\n",
    "from datetime import datetime\n",
    "%matplotlib inline\n",
    "from tabletext import to_text\n",
    "from mpl_toolkits.basemap import Basemap, cm\n",
    "from datetime import datetime\n",
    "from netCDF4 import Dataset as NetCDFFile\n",
    "from mpl_toolkits.basemap import Basemap\n",
    "from matplotlib.patches import Polygon\n"
   ]
  },
  {
   "cell_type": "markdown",
   "metadata": {},
   "source": [
    "# Setting values"
   ]
  },
  {
   "cell_type": "code",
   "execution_count": 2,
   "metadata": {},
   "outputs": [
    {
     "data": {
      "text/html": [
       "<div>\n",
       "<style>\n",
       "    .dataframe thead tr:only-child th {\n",
       "        text-align: right;\n",
       "    }\n",
       "\n",
       "    .dataframe thead th {\n",
       "        text-align: left;\n",
       "    }\n",
       "\n",
       "    .dataframe tbody tr th {\n",
       "        vertical-align: top;\n",
       "    }\n",
       "</style>\n",
       "<table border=\"1\" class=\"dataframe\">\n",
       "  <thead>\n",
       "    <tr style=\"text-align: right;\">\n",
       "      <th></th>\n",
       "      <th>x</th>\n",
       "      <th>y</th>\n",
       "    </tr>\n",
       "  </thead>\n",
       "  <tbody>\n",
       "    <tr>\n",
       "      <th>A</th>\n",
       "      <td>NaN</td>\n",
       "      <td>NaN</td>\n",
       "    </tr>\n",
       "    <tr>\n",
       "      <th>B</th>\n",
       "      <td>NaN</td>\n",
       "      <td>NaN</td>\n",
       "    </tr>\n",
       "    <tr>\n",
       "      <th>C</th>\n",
       "      <td>NaN</td>\n",
       "      <td>NaN</td>\n",
       "    </tr>\n",
       "  </tbody>\n",
       "</table>\n",
       "</div>"
      ],
      "text/plain": [
       "     x    y\n",
       "A  NaN  NaN\n",
       "B  NaN  NaN\n",
       "C  NaN  NaN"
      ]
     },
     "execution_count": 2,
     "metadata": {},
     "output_type": "execute_result"
    }
   ],
   "source": [
    "df=pd.DataFrame(index=['A','B','C'], columns=['x','y'])\n",
    "df\n"
   ]
  },
  {
   "cell_type": "code",
   "execution_count": 3,
   "metadata": {},
   "outputs": [
    {
     "data": {
      "text/html": [
       "<div>\n",
       "<style>\n",
       "    .dataframe thead tr:only-child th {\n",
       "        text-align: right;\n",
       "    }\n",
       "\n",
       "    .dataframe thead th {\n",
       "        text-align: left;\n",
       "    }\n",
       "\n",
       "    .dataframe tbody tr th {\n",
       "        vertical-align: top;\n",
       "    }\n",
       "</style>\n",
       "<table border=\"1\" class=\"dataframe\">\n",
       "  <thead>\n",
       "    <tr style=\"text-align: right;\">\n",
       "      <th></th>\n",
       "      <th>x</th>\n",
       "      <th>y</th>\n",
       "    </tr>\n",
       "  </thead>\n",
       "  <tbody>\n",
       "    <tr>\n",
       "      <th>A</th>\n",
       "      <td>10</td>\n",
       "      <td>NaN</td>\n",
       "    </tr>\n",
       "    <tr>\n",
       "      <th>B</th>\n",
       "      <td>NaN</td>\n",
       "      <td>NaN</td>\n",
       "    </tr>\n",
       "    <tr>\n",
       "      <th>C</th>\n",
       "      <td>NaN</td>\n",
       "      <td>NaN</td>\n",
       "    </tr>\n",
       "  </tbody>\n",
       "</table>\n",
       "</div>"
      ],
      "text/plain": [
       "     x    y\n",
       "A   10  NaN\n",
       "B  NaN  NaN\n",
       "C  NaN  NaN"
      ]
     },
     "execution_count": 3,
     "metadata": {},
     "output_type": "execute_result"
    }
   ],
   "source": [
    "df.set_value('A','x',10)"
   ]
  },
  {
   "cell_type": "markdown",
   "metadata": {},
   "source": [
    "# Creating dataframe with indexes and column names"
   ]
  },
  {
   "cell_type": "code",
   "execution_count": 4,
   "metadata": {},
   "outputs": [
    {
     "data": {
      "text/html": [
       "<div>\n",
       "<style>\n",
       "    .dataframe thead tr:only-child th {\n",
       "        text-align: right;\n",
       "    }\n",
       "\n",
       "    .dataframe thead th {\n",
       "        text-align: left;\n",
       "    }\n",
       "\n",
       "    .dataframe tbody tr th {\n",
       "        vertical-align: top;\n",
       "    }\n",
       "</style>\n",
       "<table border=\"1\" class=\"dataframe\">\n",
       "  <thead>\n",
       "    <tr style=\"text-align: right;\">\n",
       "      <th></th>\n",
       "      <th>c1</th>\n",
       "      <th>c2</th>\n",
       "      <th>c3</th>\n",
       "    </tr>\n",
       "  </thead>\n",
       "  <tbody>\n",
       "    <tr>\n",
       "      <th>1973</th>\n",
       "      <td>NaN</td>\n",
       "      <td>NaN</td>\n",
       "      <td>NaN</td>\n",
       "    </tr>\n",
       "    <tr>\n",
       "      <th>1974</th>\n",
       "      <td>NaN</td>\n",
       "      <td>NaN</td>\n",
       "      <td>NaN</td>\n",
       "    </tr>\n",
       "    <tr>\n",
       "      <th>1975</th>\n",
       "      <td>NaN</td>\n",
       "      <td>NaN</td>\n",
       "      <td>NaN</td>\n",
       "    </tr>\n",
       "    <tr>\n",
       "      <th>1976</th>\n",
       "      <td>NaN</td>\n",
       "      <td>NaN</td>\n",
       "      <td>NaN</td>\n",
       "    </tr>\n",
       "    <tr>\n",
       "      <th>1977</th>\n",
       "      <td>NaN</td>\n",
       "      <td>NaN</td>\n",
       "      <td>NaN</td>\n",
       "    </tr>\n",
       "  </tbody>\n",
       "</table>\n",
       "</div>"
      ],
      "text/plain": [
       "       c1   c2   c3\n",
       "1973  NaN  NaN  NaN\n",
       "1974  NaN  NaN  NaN\n",
       "1975  NaN  NaN  NaN\n",
       "1976  NaN  NaN  NaN\n",
       "1977  NaN  NaN  NaN"
      ]
     },
     "execution_count": 4,
     "metadata": {},
     "output_type": "execute_result"
    }
   ],
   "source": [
    "test_df = pd.DataFrame(index=range(1973,2018,1), columns=['c1','c2','c3'])\n",
    "test_df.head()"
   ]
  },
  {
   "cell_type": "code",
   "execution_count": 5,
   "metadata": {},
   "outputs": [
    {
     "data": {
      "text/html": [
       "<div>\n",
       "<style>\n",
       "    .dataframe thead tr:only-child th {\n",
       "        text-align: right;\n",
       "    }\n",
       "\n",
       "    .dataframe thead th {\n",
       "        text-align: left;\n",
       "    }\n",
       "\n",
       "    .dataframe tbody tr th {\n",
       "        vertical-align: top;\n",
       "    }\n",
       "</style>\n",
       "<table border=\"1\" class=\"dataframe\">\n",
       "  <thead>\n",
       "    <tr style=\"text-align: right;\">\n",
       "      <th></th>\n",
       "      <th>c1</th>\n",
       "      <th>c2</th>\n",
       "      <th>c3</th>\n",
       "    </tr>\n",
       "  </thead>\n",
       "  <tbody>\n",
       "    <tr>\n",
       "      <th>1973</th>\n",
       "      <td>89.13</td>\n",
       "      <td>NaN</td>\n",
       "      <td>NaN</td>\n",
       "    </tr>\n",
       "    <tr>\n",
       "      <th>1974</th>\n",
       "      <td>NaN</td>\n",
       "      <td>819.52</td>\n",
       "      <td>NaN</td>\n",
       "    </tr>\n",
       "    <tr>\n",
       "      <th>1975</th>\n",
       "      <td>NaN</td>\n",
       "      <td>NaN</td>\n",
       "      <td>14.35</td>\n",
       "    </tr>\n",
       "    <tr>\n",
       "      <th>1976</th>\n",
       "      <td>NaN</td>\n",
       "      <td>NaN</td>\n",
       "      <td>NaN</td>\n",
       "    </tr>\n",
       "    <tr>\n",
       "      <th>1977</th>\n",
       "      <td>NaN</td>\n",
       "      <td>NaN</td>\n",
       "      <td>NaN</td>\n",
       "    </tr>\n",
       "  </tbody>\n",
       "</table>\n",
       "</div>"
      ],
      "text/plain": [
       "         c1      c2     c3\n",
       "1973  89.13     NaN    NaN\n",
       "1974    NaN  819.52    NaN\n",
       "1975    NaN     NaN  14.35\n",
       "1976    NaN     NaN    NaN\n",
       "1977    NaN     NaN    NaN"
      ]
     },
     "execution_count": 5,
     "metadata": {},
     "output_type": "execute_result"
    }
   ],
   "source": [
    "test_df.set_value(1973,'c1', 89.13)\n",
    "test_df.set_value(1974,'c2', 819.52)\n",
    "test_df.set_value(1975,'c3', 14.35)\n",
    "test_df.head(5)"
   ]
  },
  {
   "cell_type": "markdown",
   "metadata": {},
   "source": [
    "## Merge columns from different dataframes with same index"
   ]
  },
  {
   "cell_type": "code",
   "execution_count": 6,
   "metadata": {},
   "outputs": [
    {
     "data": {
      "text/html": [
       "<div>\n",
       "<style>\n",
       "    .dataframe thead tr:only-child th {\n",
       "        text-align: right;\n",
       "    }\n",
       "\n",
       "    .dataframe thead th {\n",
       "        text-align: left;\n",
       "    }\n",
       "\n",
       "    .dataframe tbody tr th {\n",
       "        vertical-align: top;\n",
       "    }\n",
       "</style>\n",
       "<table border=\"1\" class=\"dataframe\">\n",
       "  <thead>\n",
       "    <tr style=\"text-align: right;\">\n",
       "      <th></th>\n",
       "      <th>x</th>\n",
       "      <th>y</th>\n",
       "    </tr>\n",
       "  </thead>\n",
       "  <tbody>\n",
       "    <tr>\n",
       "      <th>A</th>\n",
       "      <td>7</td>\n",
       "      <td>10</td>\n",
       "    </tr>\n",
       "    <tr>\n",
       "      <th>B</th>\n",
       "      <td>8</td>\n",
       "      <td>11</td>\n",
       "    </tr>\n",
       "    <tr>\n",
       "      <th>C</th>\n",
       "      <td>9</td>\n",
       "      <td>12</td>\n",
       "    </tr>\n",
       "  </tbody>\n",
       "</table>\n",
       "</div>"
      ],
      "text/plain": [
       "   x   y\n",
       "A  7  10\n",
       "B  8  11\n",
       "C  9  12"
      ]
     },
     "execution_count": 6,
     "metadata": {},
     "output_type": "execute_result"
    }
   ],
   "source": [
    "a_df=pd.DataFrame(index=['A','B','C'], columns=['x','y'])\n",
    "b_df=pd.DataFrame(index=['A','B','C'], columns=['x','y'])\n",
    "\n",
    "a_df.set_value('A','x', 1)\n",
    "a_df.set_value('B','x', 2)\n",
    "a_df.set_value('C','x', 3)\n",
    "a_df.set_value('A','y', 4)\n",
    "a_df.set_value('B','y', 5)\n",
    "a_df.set_value('C','y', 6)\n",
    "\n",
    "b_df.set_value('A','x', 7)\n",
    "b_df.set_value('B','x', 8)\n",
    "b_df.set_value('C','x', 9)\n",
    "b_df.set_value('A','y', 10)\n",
    "b_df.set_value('B','y', 11)\n",
    "b_df.set_value('C','y', 12)\n"
   ]
  },
  {
   "cell_type": "code",
   "execution_count": 7,
   "metadata": {},
   "outputs": [
    {
     "data": {
      "text/html": [
       "<div>\n",
       "<style>\n",
       "    .dataframe thead tr:only-child th {\n",
       "        text-align: right;\n",
       "    }\n",
       "\n",
       "    .dataframe thead th {\n",
       "        text-align: left;\n",
       "    }\n",
       "\n",
       "    .dataframe tbody tr th {\n",
       "        vertical-align: top;\n",
       "    }\n",
       "</style>\n",
       "<table border=\"1\" class=\"dataframe\">\n",
       "  <thead>\n",
       "    <tr style=\"text-align: right;\">\n",
       "      <th></th>\n",
       "      <th>x</th>\n",
       "      <th>y</th>\n",
       "    </tr>\n",
       "  </thead>\n",
       "  <tbody>\n",
       "    <tr>\n",
       "      <th>A</th>\n",
       "      <td>1</td>\n",
       "      <td>4</td>\n",
       "    </tr>\n",
       "    <tr>\n",
       "      <th>B</th>\n",
       "      <td>2</td>\n",
       "      <td>5</td>\n",
       "    </tr>\n",
       "    <tr>\n",
       "      <th>C</th>\n",
       "      <td>3</td>\n",
       "      <td>6</td>\n",
       "    </tr>\n",
       "  </tbody>\n",
       "</table>\n",
       "</div>"
      ],
      "text/plain": [
       "   x  y\n",
       "A  1  4\n",
       "B  2  5\n",
       "C  3  6"
      ]
     },
     "execution_count": 7,
     "metadata": {},
     "output_type": "execute_result"
    }
   ],
   "source": [
    "a_df"
   ]
  },
  {
   "cell_type": "code",
   "execution_count": 8,
   "metadata": {},
   "outputs": [
    {
     "data": {
      "text/html": [
       "<div>\n",
       "<style>\n",
       "    .dataframe thead tr:only-child th {\n",
       "        text-align: right;\n",
       "    }\n",
       "\n",
       "    .dataframe thead th {\n",
       "        text-align: left;\n",
       "    }\n",
       "\n",
       "    .dataframe tbody tr th {\n",
       "        vertical-align: top;\n",
       "    }\n",
       "</style>\n",
       "<table border=\"1\" class=\"dataframe\">\n",
       "  <thead>\n",
       "    <tr style=\"text-align: right;\">\n",
       "      <th></th>\n",
       "      <th>x</th>\n",
       "      <th>y</th>\n",
       "    </tr>\n",
       "  </thead>\n",
       "  <tbody>\n",
       "    <tr>\n",
       "      <th>A</th>\n",
       "      <td>7</td>\n",
       "      <td>10</td>\n",
       "    </tr>\n",
       "    <tr>\n",
       "      <th>B</th>\n",
       "      <td>8</td>\n",
       "      <td>11</td>\n",
       "    </tr>\n",
       "    <tr>\n",
       "      <th>C</th>\n",
       "      <td>9</td>\n",
       "      <td>12</td>\n",
       "    </tr>\n",
       "  </tbody>\n",
       "</table>\n",
       "</div>"
      ],
      "text/plain": [
       "   x   y\n",
       "A  7  10\n",
       "B  8  11\n",
       "C  9  12"
      ]
     },
     "execution_count": 8,
     "metadata": {},
     "output_type": "execute_result"
    }
   ],
   "source": [
    "b_df"
   ]
  },
  {
   "cell_type": "markdown",
   "metadata": {},
   "source": [
    "## Add x column from dataframe a"
   ]
  },
  {
   "cell_type": "code",
   "execution_count": 9,
   "metadata": {},
   "outputs": [
    {
     "data": {
      "text/html": [
       "<div>\n",
       "<style>\n",
       "    .dataframe thead tr:only-child th {\n",
       "        text-align: right;\n",
       "    }\n",
       "\n",
       "    .dataframe thead th {\n",
       "        text-align: left;\n",
       "    }\n",
       "\n",
       "    .dataframe tbody tr th {\n",
       "        vertical-align: top;\n",
       "    }\n",
       "</style>\n",
       "<table border=\"1\" class=\"dataframe\">\n",
       "  <thead>\n",
       "    <tr style=\"text-align: right;\">\n",
       "      <th></th>\n",
       "      <th>x</th>\n",
       "      <th>y</th>\n",
       "      <th>z</th>\n",
       "    </tr>\n",
       "  </thead>\n",
       "  <tbody>\n",
       "    <tr>\n",
       "      <th>A</th>\n",
       "      <td>1</td>\n",
       "      <td>4</td>\n",
       "      <td>7</td>\n",
       "    </tr>\n",
       "    <tr>\n",
       "      <th>B</th>\n",
       "      <td>2</td>\n",
       "      <td>5</td>\n",
       "      <td>8</td>\n",
       "    </tr>\n",
       "    <tr>\n",
       "      <th>C</th>\n",
       "      <td>3</td>\n",
       "      <td>6</td>\n",
       "      <td>9</td>\n",
       "    </tr>\n",
       "  </tbody>\n",
       "</table>\n",
       "</div>"
      ],
      "text/plain": [
       "   x  y  z\n",
       "A  1  4  7\n",
       "B  2  5  8\n",
       "C  3  6  9"
      ]
     },
     "execution_count": 9,
     "metadata": {},
     "output_type": "execute_result"
    }
   ],
   "source": [
    "list_b_x = list(b_df['x'])\n",
    "a_df.loc[:,'z'] = pd.Series(list_b_x, index=a_df.index)\n",
    "a_df"
   ]
  },
  {
   "cell_type": "markdown",
   "metadata": {
    "collapsed": true
   },
   "source": [
    "# Merge a_df and b_df"
   ]
  },
  {
   "cell_type": "code",
   "execution_count": 10,
   "metadata": {},
   "outputs": [
    {
     "data": {
      "text/html": [
       "<div>\n",
       "<style>\n",
       "    .dataframe thead tr:only-child th {\n",
       "        text-align: right;\n",
       "    }\n",
       "\n",
       "    .dataframe thead th {\n",
       "        text-align: left;\n",
       "    }\n",
       "\n",
       "    .dataframe tbody tr th {\n",
       "        vertical-align: top;\n",
       "    }\n",
       "</style>\n",
       "<table border=\"1\" class=\"dataframe\">\n",
       "  <thead>\n",
       "    <tr style=\"text-align: right;\">\n",
       "      <th></th>\n",
       "      <th>x</th>\n",
       "      <th>y</th>\n",
       "      <th>z</th>\n",
       "      <th>x</th>\n",
       "      <th>y</th>\n",
       "    </tr>\n",
       "  </thead>\n",
       "  <tbody>\n",
       "    <tr>\n",
       "      <th>A</th>\n",
       "      <td>1</td>\n",
       "      <td>4</td>\n",
       "      <td>7</td>\n",
       "      <td>7</td>\n",
       "      <td>10</td>\n",
       "    </tr>\n",
       "    <tr>\n",
       "      <th>B</th>\n",
       "      <td>2</td>\n",
       "      <td>5</td>\n",
       "      <td>8</td>\n",
       "      <td>8</td>\n",
       "      <td>11</td>\n",
       "    </tr>\n",
       "    <tr>\n",
       "      <th>C</th>\n",
       "      <td>3</td>\n",
       "      <td>6</td>\n",
       "      <td>9</td>\n",
       "      <td>9</td>\n",
       "      <td>12</td>\n",
       "    </tr>\n",
       "  </tbody>\n",
       "</table>\n",
       "</div>"
      ],
      "text/plain": [
       "   x  y  z  x   y\n",
       "A  1  4  7  7  10\n",
       "B  2  5  8  8  11\n",
       "C  3  6  9  9  12"
      ]
     },
     "execution_count": 10,
     "metadata": {},
     "output_type": "execute_result"
    }
   ],
   "source": [
    "df_new = pd.concat([a_df, b_df],axis=1)\n",
    "df_new"
   ]
  },
  {
   "cell_type": "code",
   "execution_count": 11,
   "metadata": {
    "collapsed": true
   },
   "outputs": [],
   "source": [
    "# print data as table"
   ]
  },
  {
   "cell_type": "code",
   "execution_count": 12,
   "metadata": {},
   "outputs": [
    {
     "name": "stdout",
     "output_type": "stream",
     "text": [
      "┌───┬───────┬─────┐\n",
      "│ 1 │     2 │  30 │\n",
      "├───┼───────┼─────┤\n",
      "│ 4 │ 23125 │   6 │\n",
      "├───┼───────┼─────┤\n",
      "│ 7 │     8 │ 999 │\n",
      "└───┴───────┴─────┘\n"
     ]
    }
   ],
   "source": [
    "data = [[1,2,30],\n",
    "        [4,23125,6],\n",
    "        [7,8,999],\n",
    "        ]\n",
    "\n",
    "print (to_text(data))\n"
   ]
  },
  {
   "cell_type": "code",
   "execution_count": 13,
   "metadata": {
    "collapsed": true
   },
   "outputs": [],
   "source": [
    "def draw_regions():\n",
    "    # create new figure, axes instances.\n",
    "    fig = plt.figure()\n",
    "    # ax = fig.add_axes([0.1, 0.1, 0.8, 0.8])\n",
    "    # setup mercator map projection.\n",
    "    m = Basemap(llcrnrlon=-60., llcrnrlat=-20., urcrnrlon=15., urcrnrlat=30., \\\n",
    "                rsphere=(6378137.00, 6357752.3142), \\\n",
    "                resolution='l', projection='merc', \\\n",
    "                lat_0=40., lon_0=-20., lat_ts=20.)\n",
    "    # nylat, nylon are lat/lon of New York\n",
    "    # nylat = 40.78;\n",
    "    # nylon = -73.98\n",
    "    # lonlat, lonlon are lat/lon of London.\n",
    "    # lonlat = 51.53;\n",
    "    # lonlon = 0.08\n",
    "    # draw great circle route between NY and London\n",
    "    # m.drawgreatcircle(nylon, nylat, lonlon, lonlat, linewidth=2, color='b')\n",
    "    m.drawcoastlines()\n",
    "    m.fillcontinents()\n",
    "    # draw parallels\n",
    "    m.drawparallels(np.arange(-20, 30, 5), labels=[1, 1, 0, 1])\n",
    "    # draw meridians\n",
    "    m.drawmeridians(np.arange(-60, 20, 10), labels=[1, 1, 0, 1])\n",
    "    # ax.set_title('Great Circle from New York to London')\n",
    "    m.drawstates()\n",
    "\n",
    "    # atn\n",
    "    x1_atn, y1_atn = m(-50,0)\n",
    "    x2_atn, y2_atn = m(-50, 20)\n",
    "    x3_atn, y3_atn = m(-20, 20)\n",
    "    x4_atn, y4_atn = m(-20, 0)\n",
    "    poly_atn = Polygon([(x1_atn, y1_atn), (x2_atn, y2_atn), (x3_atn, y3_atn), (x4_atn, y4_atn)], facecolor='none', edgecolor='green', linewidth=3)\n",
    "\n",
    "    # ats\n",
    "    x1_ats, y1_ats = m(-30,-18)\n",
    "    x2_ats, y2_ats = m(-30, 0)\n",
    "    x3_ats, y3_ats = m(0, 0)\n",
    "    x4_ats, y4_ats = m(0, -18)\n",
    "    poly_ats = Polygon([(x1_ats, y1_ats), (x2_ats, y2_ats), (x3_ats, y3_ats), (x4_ats, y4_ats)], facecolor='none', edgecolor='blue', linewidth=3)\n",
    "\n",
    "    # tn\n",
    "    x1_tn, y1_tn = m(-59,-5)\n",
    "    x2_tn, y2_tn = m(-59, 27)\n",
    "    x3_tn, y3_tn = m(15, 27)\n",
    "    x4_tn, y4_tn = m(15, -5)\n",
    "    poly_tn = Polygon([(x1_tn, y1_tn), (x2_tn, y2_tn), (x3_tn, y3_tn), (x4_tn, y4_tn)], facecolor='none', edgecolor='yellow', linewidth=3)\n",
    "\n",
    "    # ts\n",
    "    x1_ts, y1_ts = m(-59,-20)\n",
    "    x2_ts, y2_ts = m(-59, 5)\n",
    "    x3_ts, y3_ts = m(15, 5)\n",
    "    x4_ts, y4_ts = m(15, -20)\n",
    "    poly_ts = Polygon([(x1_ts, y1_ts), (x2_ts, y2_ts), (x3_ts, y3_ts), (x4_ts, y4_ts)], facecolor='none', edgecolor='orange', linewidth=3)\n",
    "    \n",
    "    # coast1\n",
    "    x1_coast1, y1_coast1 = m(-40,-5)\n",
    "    x2_coast1, y2_coast1 = m(-40, 0)\n",
    "    x3_coast1, y3_coast1 = m(-30, 0)\n",
    "    x4_coast1, y4_coast1 = m(-30, -5)\n",
    "    poly_coast1 = Polygon([(x1_coast1, y1_coast1), (x2_coast1, y2_coast1), (x3_coast1, y3_coast1), (x4_coast1, y4_coast1)], facecolor='none', edgecolor='red', linewidth=3)\n",
    "\n",
    "    # coast2\n",
    "    x1_coast2, y1_coast2 = m(-50,-10)\n",
    "    x2_coast2, y2_coast2 = m(-50, 0)\n",
    "    x3_coast2, y3_coast2 = m(-30, 0)\n",
    "    x4_coast2, y4_coast2 = m(-30, -10)\n",
    "    poly_coast2 = Polygon([(x1_coast2, y1_coast2), (x2_coast2, y2_coast2), (x3_coast2, y3_coast2), (x4_coast2, y4_coast2)], facecolor='none', edgecolor='magenta', linewidth=3)\n",
    "\n",
    "    # coast3\n",
    "    x1_coast3, y1_coast3 = m(-50,-10)\n",
    "    x2_coast3, y2_coast3 = m(-50, 5)\n",
    "    x3_coast3, y3_coast3 = m(-20, 5)\n",
    "    x4_coast3, y4_coast3 = m(-20, -10)\n",
    "    poly_coast3 = Polygon([(x1_coast3, y1_coast3), (x2_coast3, y2_coast3), (x3_coast3, y3_coast3), (x4_coast3, y4_coast3)], facecolor='none', edgecolor='cyan', linewidth=3)\n",
    "\n",
    "    plt.gca().add_patch(poly_atn)\n",
    "    plt.gca().add_patch(poly_ats)\n",
    "    plt.gca().add_patch(poly_tn)\n",
    "    plt.gca().add_patch(poly_ts)\n",
    "    plt.gca().add_patch(poly_coast1)\n",
    "    plt.gca().add_patch(poly_coast2)\n",
    "    plt.gca().add_patch(poly_coast3)\n",
    "    plt.show()"
   ]
  },
  {
   "cell_type": "code",
   "execution_count": 14,
   "metadata": {},
   "outputs": [
    {
     "data": {
      "image/png": "[encoded data removed]",
      "text/plain": [
       "<matplotlib.figure.Figure at 0x110da9b00>"
      ]
     },
     "metadata": {},
     "output_type": "display_data"
    }
   ],
   "source": [
    "draw_regions()"
   ]
  },
  {
   "cell_type": "code",
   "execution_count": null,
   "metadata": {
    "collapsed": true
   },
   "outputs": [],
   "source": []
  }
 ],
 "metadata": {
  "kernelspec": {
   "display_name": "Python 3",
   "language": "python",
   "name": "python3"
  },
  "language_info": {
   "codemirror_mode": {
    "name": "ipython",
    "version": 3
   },
   "file_extension": ".py",
   "mimetype": "text/x-python",
   "name": "python",
   "nbconvert_exporter": "python",
   "pygments_lexer": "ipython3",
   "version": "3.6.4"
  }
 },
 "nbformat": 4,
 "nbformat_minor": 2
}
